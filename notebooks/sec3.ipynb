{
 "cells": [
  {
   "cell_type": "code",
   "execution_count": 1,
   "metadata": {},
   "outputs": [
    {
     "name": "stderr",
     "output_type": "stream",
     "text": [
      "┌ Info: Precompiling Plots [91a5bcdd-55d7-5caf-9e0b-520d859cae80]\n",
      "└ @ Base loading.jl:1273\n"
     ]
    },
    {
     "data": {
      "text/plain": [
       "Plots.GRBackend()"
      ]
     },
     "execution_count": 1,
     "metadata": {},
     "output_type": "execute_result"
    }
   ],
   "source": [
    "using Plots\n",
    "using LinearAlgebra\n",
    "using DelimitedFiles\n",
    "using Distributions\n",
    "using StatsBase\n",
    "# using GLM\n",
    "using ScikitLearn\n",
    "gr()"
   ]
  },
  {
   "cell_type": "code",
   "execution_count": 2,
   "metadata": {},
   "outputs": [
    {
     "data": {
      "text/plain": [
       "Normal{Float64}(μ=0.0, σ=1.0)"
      ]
     },
     "execution_count": 2,
     "metadata": {},
     "output_type": "execute_result"
    }
   ],
   "source": [
    "# distributions\n",
    "dnorm = Normal()"
   ]
  },
  {
   "cell_type": "markdown",
   "metadata": {},
   "source": [
    "# 例39 10-fold CV"
   ]
  },
  {
   "cell_type": "code",
   "execution_count": 3,
   "metadata": {},
   "outputs": [
    {
     "data": {
      "text/plain": [
       "cv_linear (generic function with 1 method)"
      ]
     },
     "execution_count": 3,
     "metadata": {},
     "output_type": "execute_result"
    }
   ],
   "source": [
    "function cv_linear(X, y, K)\n",
    "    n = length(y)\n",
    "    m = ceil(Int, n / K)\n",
    "    S = 0.0\n",
    "    # println(\"$n $m\")\n",
    "    for j in 1:K\n",
    "        test = collect(1 + (j - 1) * m:1:j * m)\n",
    "        train = collect([x for x in 1:n if !(x in test)])\n",
    "        # println(\"$j $(length(test)) $(length(train))\")\n",
    "        \n",
    "        β = inv(X[train, :]' * X[train, :]) * X[train, :]' * y[train]\n",
    "        error = y[test] .- X[test, :] * β\n",
    "        S += norm(error) ^ 2\n",
    "    end\n",
    "    S / n\n",
    "end"
   ]
  },
  {
   "cell_type": "code",
   "execution_count": 4,
   "metadata": {},
   "outputs": [
    {
     "data": {
      "text/plain": [
       "0.8690392768696711"
      ]
     },
     "execution_count": 4,
     "metadata": {},
     "output_type": "execute_result"
    }
   ],
   "source": [
    "K = 10\n",
    "n = 100\n",
    "p = 5\n",
    "X = zeros(n, p + 1)\n",
    "X[:, 1] = ones(n)\n",
    "for i in 2:p+1\n",
    "    X[:, i] .= rand(dnorm, n)\n",
    "end\n",
    "β = rand(dnorm, p + 1)\n",
    "β[2:3] .= 0  # python [1, 2] -> julia [2, 3]\n",
    "y = X * β .+ rand(dnorm, n);\n",
    "cv_linear(X[:, [1, 4, 5, 6]], y, K)"
   ]
  },
  {
   "cell_type": "code",
   "execution_count": 5,
   "metadata": {},
   "outputs": [
    {
     "data": {
      "text/plain": [
       "0.9098196409642264"
      ]
     },
     "execution_count": 5,
     "metadata": {},
     "output_type": "execute_result"
    }
   ],
   "source": [
    "\n",
    "cv_linear(X, y, K)"
   ]
  },
  {
   "cell_type": "code",
   "execution_count": 6,
   "metadata": {},
   "outputs": [],
   "source": [
    "# 何度も繰り替えす\n",
    "U = Float64[]\n",
    "V = Float64[]\n",
    "\n",
    "K = 10\n",
    "n = 100\n",
    "p = 5\n",
    "X = zeros(n, p + 1)\n",
    "X[:, 1] = ones(n)\n",
    "for i in 2:p+1\n",
    "    X[:, i] .= rand(dnorm, n)\n",
    "end\n",
    "β = rand(dnorm, p + 1)\n",
    "β[2:3] .= 0  # python [1, 2] -> julia [2, 3]\n",
    "\n",
    "for _ in 1:100\n",
    "    y = X * β .+ rand(dnorm, n);\n",
    "    u = cv_linear(X[:, [1, 4, 5, 6]], y, K)\n",
    "    v = cv_linear(X, y, K)\n",
    "    push!(U, u)\n",
    "    push!(V, v)\n",
    "end"
   ]
  },
  {
   "cell_type": "code",
   "execution_count": 7,
   "metadata": {},
   "outputs": [
    {
     "data": {
      "image/svg+xml": [
       "<?xml version=\"1.0\" encoding=\"utf-8\"?>\n",
       "<svg xmlns=\"http://www.w3.org/2000/svg\" xmlns:xlink=\"http://www.w3.org/1999/xlink\" width=\"300\" height=\"300\" viewBox=\"0 0 1200 1200\">\n",
       "<defs>\n",
       "  <clipPath id=\"clip290\">\n",
       "    <rect x=\"0\" y=\"0\" width=\"1200\" height=\"1200\"/>\n",
       "  </clipPath>\n",
       "</defs>\n",
       "<path clip-path=\"url(#clip290)\" d=\"\n",
       "M0 1200 L1200 1200 L1200 0 L0 0  Z\n",
       "  \" fill=\"#ffffff\" fill-rule=\"evenodd\" fill-opacity=\"1\"/>\n",
       "<defs>\n",
       "  <clipPath id=\"clip291\">\n",
       "    <rect x=\"240\" y=\"120\" width=\"841\" height=\"841\"/>\n",
       "  </clipPath>\n",
       "</defs>\n",
       "<path clip-path=\"url(#clip290)\" d=\"\n",
       "M135.756 1073.17 L1152.76 1073.17 L1152.76 47.2441 L135.756 47.2441  Z\n",
       "  \" fill=\"#ffffff\" fill-rule=\"evenodd\" fill-opacity=\"1\"/>\n",
       "<defs>\n",
       "  <clipPath id=\"clip292\">\n",
       "    <rect x=\"135\" y=\"47\" width=\"1018\" height=\"1027\"/>\n",
       "  </clipPath>\n",
       "</defs>\n",
       "<polyline clip-path=\"url(#clip292)\" style=\"stroke:#000000; stroke-width:2; stroke-opacity:0.1; fill:none\" points=\"\n",
       "  289.143,1073.17 289.143,47.2441 \n",
       "  \"/>\n",
       "<polyline clip-path=\"url(#clip292)\" style=\"stroke:#000000; stroke-width:2; stroke-opacity:0.1; fill:none\" points=\"\n",
       "  505.363,1073.17 505.363,47.2441 \n",
       "  \"/>\n",
       "<polyline clip-path=\"url(#clip292)\" style=\"stroke:#000000; stroke-width:2; stroke-opacity:0.1; fill:none\" points=\"\n",
       "  721.583,1073.17 721.583,47.2441 \n",
       "  \"/>\n",
       "<polyline clip-path=\"url(#clip292)\" style=\"stroke:#000000; stroke-width:2; stroke-opacity:0.1; fill:none\" points=\"\n",
       "  937.802,1073.17 937.802,47.2441 \n",
       "  \"/>\n",
       "<polyline clip-path=\"url(#clip292)\" style=\"stroke:#000000; stroke-width:2; stroke-opacity:0.1; fill:none\" points=\"\n",
       "  135.756,943.814 1152.76,943.814 \n",
       "  \"/>\n",
       "<polyline clip-path=\"url(#clip292)\" style=\"stroke:#000000; stroke-width:2; stroke-opacity:0.1; fill:none\" points=\"\n",
       "  135.756,743.177 1152.76,743.177 \n",
       "  \"/>\n",
       "<polyline clip-path=\"url(#clip292)\" style=\"stroke:#000000; stroke-width:2; stroke-opacity:0.1; fill:none\" points=\"\n",
       "  135.756,542.539 1152.76,542.539 \n",
       "  \"/>\n",
       "<polyline clip-path=\"url(#clip292)\" style=\"stroke:#000000; stroke-width:2; stroke-opacity:0.1; fill:none\" points=\"\n",
       "  135.756,341.902 1152.76,341.902 \n",
       "  \"/>\n",
       "<polyline clip-path=\"url(#clip292)\" style=\"stroke:#000000; stroke-width:2; stroke-opacity:0.1; fill:none\" points=\"\n",
       "  135.756,141.265 1152.76,141.265 \n",
       "  \"/>\n",
       "<polyline clip-path=\"url(#clip290)\" style=\"stroke:#000000; stroke-width:4; stroke-opacity:1; fill:none\" points=\"\n",
       "  135.756,1073.17 1152.76,1073.17 \n",
       "  \"/>\n",
       "<polyline clip-path=\"url(#clip290)\" style=\"stroke:#000000; stroke-width:4; stroke-opacity:1; fill:none\" points=\"\n",
       "  135.756,1073.17 135.756,47.2441 \n",
       "  \"/>\n",
       "<polyline clip-path=\"url(#clip290)\" style=\"stroke:#000000; stroke-width:4; stroke-opacity:1; fill:none\" points=\"\n",
       "  289.143,1073.17 289.143,1060.86 \n",
       "  \"/>\n",
       "<polyline clip-path=\"url(#clip290)\" style=\"stroke:#000000; stroke-width:4; stroke-opacity:1; fill:none\" points=\"\n",
       "  505.363,1073.17 505.363,1060.86 \n",
       "  \"/>\n",
       "<polyline clip-path=\"url(#clip290)\" style=\"stroke:#000000; stroke-width:4; stroke-opacity:1; fill:none\" points=\"\n",
       "  721.583,1073.17 721.583,1060.86 \n",
       "  \"/>\n",
       "<polyline clip-path=\"url(#clip290)\" style=\"stroke:#000000; stroke-width:4; stroke-opacity:1; fill:none\" points=\"\n",
       "  937.802,1073.17 937.802,1060.86 \n",
       "  \"/>\n",
       "<polyline clip-path=\"url(#clip290)\" style=\"stroke:#000000; stroke-width:4; stroke-opacity:1; fill:none\" points=\"\n",
       "  135.756,943.814 147.96,943.814 \n",
       "  \"/>\n",
       "<polyline clip-path=\"url(#clip290)\" style=\"stroke:#000000; stroke-width:4; stroke-opacity:1; fill:none\" points=\"\n",
       "  135.756,743.177 147.96,743.177 \n",
       "  \"/>\n",
       "<polyline clip-path=\"url(#clip290)\" style=\"stroke:#000000; stroke-width:4; stroke-opacity:1; fill:none\" points=\"\n",
       "  135.756,542.539 147.96,542.539 \n",
       "  \"/>\n",
       "<polyline clip-path=\"url(#clip290)\" style=\"stroke:#000000; stroke-width:4; stroke-opacity:1; fill:none\" points=\"\n",
       "  135.756,341.902 147.96,341.902 \n",
       "  \"/>\n",
       "<polyline clip-path=\"url(#clip290)\" style=\"stroke:#000000; stroke-width:4; stroke-opacity:1; fill:none\" points=\"\n",
       "  135.756,141.265 147.96,141.265 \n",
       "  \"/>\n",
       "<path clip-path=\"url(#clip290)\" d=\"M 0 0 M270.706 1089.16 Q267.095 1089.16 265.266 1092.72 Q263.461 1096.27 263.461 1103.39 Q263.461 1110.5 265.266 1114.07 Q267.095 1117.61 270.706 1117.61 Q274.34 1117.61 276.146 1114.07 Q277.974 1110.5 277.974 1103.39 Q277.974 1096.27 276.146 1092.72 Q274.34 1089.16 270.706 1089.16 M270.706 1085.45 Q276.516 1085.45 279.572 1090.06 Q282.65 1094.64 282.65 1103.39 Q282.65 1112.12 279.572 1116.73 Q276.516 1121.31 270.706 1121.31 Q264.896 1121.31 261.817 1116.73 Q258.761 1112.12 258.761 1103.39 Q258.761 1094.64 261.817 1090.06 Q264.896 1085.45 270.706 1085.45 Z\" fill=\"#000000\" fill-rule=\"evenodd\" fill-opacity=\"1\" /><path clip-path=\"url(#clip290)\" d=\"M 0 0 M287.72 1114.76 L292.604 1114.76 L292.604 1120.64 L287.72 1120.64 L287.72 1114.76 Z\" fill=\"#000000\" fill-rule=\"evenodd\" fill-opacity=\"1\" /><path clip-path=\"url(#clip290)\" d=\"M 0 0 M307.673 1104.23 Q304.34 1104.23 302.419 1106.01 Q300.521 1107.79 300.521 1110.92 Q300.521 1114.04 302.419 1115.83 Q304.34 1117.61 307.673 1117.61 Q311.007 1117.61 312.928 1115.83 Q314.849 1114.02 314.849 1110.92 Q314.849 1107.79 312.928 1106.01 Q311.03 1104.23 307.673 1104.23 M302.997 1102.24 Q299.988 1101.5 298.298 1099.44 Q296.632 1097.38 296.632 1094.41 Q296.632 1090.27 299.571 1087.86 Q302.534 1085.45 307.673 1085.45 Q312.835 1085.45 315.775 1087.86 Q318.715 1090.27 318.715 1094.41 Q318.715 1097.38 317.025 1099.44 Q315.358 1101.5 312.372 1102.24 Q315.752 1103.02 317.627 1105.32 Q319.525 1107.61 319.525 1110.92 Q319.525 1115.94 316.446 1118.63 Q313.391 1121.31 307.673 1121.31 Q301.956 1121.31 298.877 1118.63 Q295.821 1115.94 295.821 1110.92 Q295.821 1107.61 297.72 1105.32 Q299.618 1103.02 302.997 1102.24 M301.284 1094.85 Q301.284 1097.54 302.951 1099.04 Q304.641 1100.55 307.673 1100.55 Q310.682 1100.55 312.372 1099.04 Q314.085 1097.54 314.085 1094.85 Q314.085 1092.17 312.372 1090.66 Q310.682 1089.16 307.673 1089.16 Q304.641 1089.16 302.951 1090.66 Q301.284 1092.17 301.284 1094.85 Z\" fill=\"#000000\" fill-rule=\"evenodd\" fill-opacity=\"1\" /><path clip-path=\"url(#clip290)\" d=\"M 0 0 M477.261 1116.7 L484.9 1116.7 L484.9 1090.34 L476.59 1092.01 L476.59 1087.75 L484.854 1086.08 L489.53 1086.08 L489.53 1116.7 L497.168 1116.7 L497.168 1120.64 L477.261 1120.64 L477.261 1116.7 Z\" fill=\"#000000\" fill-rule=\"evenodd\" fill-opacity=\"1\" /><path clip-path=\"url(#clip290)\" d=\"M 0 0 M502.238 1114.76 L507.122 1114.76 L507.122 1120.64 L502.238 1120.64 L502.238 1114.76 Z\" fill=\"#000000\" fill-rule=\"evenodd\" fill-opacity=\"1\" /><path clip-path=\"url(#clip290)\" d=\"M 0 0 M522.191 1089.16 Q518.58 1089.16 516.752 1092.72 Q514.946 1096.27 514.946 1103.39 Q514.946 1110.5 516.752 1114.07 Q518.58 1117.61 522.191 1117.61 Q525.826 1117.61 527.631 1114.07 Q529.46 1110.5 529.46 1103.39 Q529.46 1096.27 527.631 1092.72 Q525.826 1089.16 522.191 1089.16 M522.191 1085.45 Q528.002 1085.45 531.057 1090.06 Q534.136 1094.64 534.136 1103.39 Q534.136 1112.12 531.057 1116.73 Q528.002 1121.31 522.191 1121.31 Q516.381 1121.31 513.303 1116.73 Q510.247 1112.12 510.247 1103.39 Q510.247 1094.64 513.303 1090.06 Q516.381 1085.45 522.191 1085.45 Z\" fill=\"#000000\" fill-rule=\"evenodd\" fill-opacity=\"1\" /><path clip-path=\"url(#clip290)\" d=\"M 0 0 M694.279 1116.7 L701.918 1116.7 L701.918 1090.34 L693.608 1092.01 L693.608 1087.75 L701.872 1086.08 L706.548 1086.08 L706.548 1116.7 L714.187 1116.7 L714.187 1120.64 L694.279 1120.64 L694.279 1116.7 Z\" fill=\"#000000\" fill-rule=\"evenodd\" fill-opacity=\"1\" /><path clip-path=\"url(#clip290)\" d=\"M 0 0 M719.256 1114.76 L724.14 1114.76 L724.14 1120.64 L719.256 1120.64 L719.256 1114.76 Z\" fill=\"#000000\" fill-rule=\"evenodd\" fill-opacity=\"1\" /><path clip-path=\"url(#clip290)\" d=\"M 0 0 M733.238 1116.7 L749.557 1116.7 L749.557 1120.64 L727.613 1120.64 L727.613 1116.7 Q730.275 1113.95 734.858 1109.32 Q739.464 1104.67 740.645 1103.33 Q742.89 1100.8 743.77 1099.07 Q744.673 1097.31 744.673 1095.62 Q744.673 1092.86 742.728 1091.13 Q740.807 1089.39 737.705 1089.39 Q735.506 1089.39 733.052 1090.15 Q730.622 1090.92 727.844 1092.47 L727.844 1087.75 Q730.668 1086.61 733.122 1086.03 Q735.575 1085.45 737.613 1085.45 Q742.983 1085.45 746.177 1088.14 Q749.372 1090.83 749.372 1095.32 Q749.372 1097.45 748.562 1099.37 Q747.774 1101.26 745.668 1103.86 Q745.089 1104.53 741.987 1107.75 Q738.886 1110.94 733.238 1116.7 Z\" fill=\"#000000\" fill-rule=\"evenodd\" fill-opacity=\"1\" /><path clip-path=\"url(#clip290)\" d=\"M 0 0 M909.457 1116.7 L917.096 1116.7 L917.096 1090.34 L908.786 1092.01 L908.786 1087.75 L917.05 1086.08 L921.726 1086.08 L921.726 1116.7 L929.365 1116.7 L929.365 1120.64 L909.457 1120.64 L909.457 1116.7 Z\" fill=\"#000000\" fill-rule=\"evenodd\" fill-opacity=\"1\" /><path clip-path=\"url(#clip290)\" d=\"M 0 0 M934.434 1114.76 L939.318 1114.76 L939.318 1120.64 L934.434 1120.64 L934.434 1114.76 Z\" fill=\"#000000\" fill-rule=\"evenodd\" fill-opacity=\"1\" /><path clip-path=\"url(#clip290)\" d=\"M 0 0 M957.235 1090.15 L945.429 1108.6 L957.235 1108.6 L957.235 1090.15 M956.008 1086.08 L961.888 1086.08 L961.888 1108.6 L966.818 1108.6 L966.818 1112.49 L961.888 1112.49 L961.888 1120.64 L957.235 1120.64 L957.235 1112.49 L941.633 1112.49 L941.633 1107.98 L956.008 1086.08 Z\" fill=\"#000000\" fill-rule=\"evenodd\" fill-opacity=\"1\" /><path clip-path=\"url(#clip290)\" d=\"M 0 0 M74.9365 929.612 Q71.3254 929.612 69.4967 933.177 Q67.6912 936.719 67.6912 943.848 Q67.6912 950.955 69.4967 954.52 Q71.3254 958.061 74.9365 958.061 Q78.5707 958.061 80.3763 954.52 Q82.205 950.955 82.205 943.848 Q82.205 936.719 80.3763 933.177 Q78.5707 929.612 74.9365 929.612 M74.9365 925.909 Q80.7467 925.909 83.8022 930.515 Q86.8809 935.098 86.8809 943.848 Q86.8809 952.575 83.8022 957.182 Q80.7467 961.765 74.9365 961.765 Q69.1264 961.765 66.0477 957.182 Q62.9921 952.575 62.9921 943.848 Q62.9921 935.098 66.0477 930.515 Q69.1264 925.909 74.9365 925.909 Z\" fill=\"#000000\" fill-rule=\"evenodd\" fill-opacity=\"1\" /><path clip-path=\"url(#clip290)\" d=\"M 0 0 M91.9503 955.214 L96.8345 955.214 L96.8345 961.094 L91.9503 961.094 L91.9503 955.214 Z\" fill=\"#000000\" fill-rule=\"evenodd\" fill-opacity=\"1\" /><path clip-path=\"url(#clip290)\" d=\"M 0 0 M111.904 944.682 Q108.571 944.682 106.649 946.464 Q104.751 948.247 104.751 951.372 Q104.751 954.497 106.649 956.279 Q108.571 958.061 111.904 958.061 Q115.237 958.061 117.159 956.279 Q119.08 954.473 119.08 951.372 Q119.08 948.247 117.159 946.464 Q115.26 944.682 111.904 944.682 M107.228 942.691 Q104.219 941.95 102.529 939.89 Q100.862 937.83 100.862 934.867 Q100.862 930.723 103.802 928.316 Q106.765 925.909 111.904 925.909 Q117.066 925.909 120.006 928.316 Q122.946 930.723 122.946 934.867 Q122.946 937.83 121.256 939.89 Q119.589 941.95 116.603 942.691 Q119.983 943.478 121.858 945.77 Q123.756 948.061 123.756 951.372 Q123.756 956.395 120.677 959.08 Q117.621 961.765 111.904 961.765 Q106.186 961.765 103.108 959.08 Q100.052 956.395 100.052 951.372 Q100.052 948.061 101.95 945.77 Q103.848 943.478 107.228 942.691 M105.515 935.307 Q105.515 937.992 107.182 939.497 Q108.872 941.001 111.904 941.001 Q114.913 941.001 116.603 939.497 Q118.316 937.992 118.316 935.307 Q118.316 932.622 116.603 931.117 Q114.913 929.612 111.904 929.612 Q108.872 929.612 107.182 931.117 Q105.515 932.622 105.515 935.307 Z\" fill=\"#000000\" fill-rule=\"evenodd\" fill-opacity=\"1\" /><path clip-path=\"url(#clip290)\" d=\"M 0 0 M66.881 756.521 L74.5198 756.521 L74.5198 730.156 L66.2097 731.822 L66.2097 727.563 L74.4735 725.897 L79.1494 725.897 L79.1494 756.521 L86.7883 756.521 L86.7883 760.457 L66.881 760.457 L66.881 756.521 Z\" fill=\"#000000\" fill-rule=\"evenodd\" fill-opacity=\"1\" /><path clip-path=\"url(#clip290)\" d=\"M 0 0 M91.8577 754.577 L96.7419 754.577 L96.7419 760.457 L91.8577 760.457 L91.8577 754.577 Z\" fill=\"#000000\" fill-rule=\"evenodd\" fill-opacity=\"1\" /><path clip-path=\"url(#clip290)\" d=\"M 0 0 M111.811 728.975 Q108.2 728.975 106.372 732.54 Q104.566 736.082 104.566 743.211 Q104.566 750.318 106.372 753.882 Q108.2 757.424 111.811 757.424 Q115.446 757.424 117.251 753.882 Q119.08 750.318 119.08 743.211 Q119.08 736.082 117.251 732.54 Q115.446 728.975 111.811 728.975 M111.811 725.272 Q117.621 725.272 120.677 729.878 Q123.756 734.461 123.756 743.211 Q123.756 751.938 120.677 756.545 Q117.621 761.128 111.811 761.128 Q106.001 761.128 102.922 756.545 Q99.8669 751.938 99.8669 743.211 Q99.8669 734.461 102.922 729.878 Q106.001 725.272 111.811 725.272 Z\" fill=\"#000000\" fill-rule=\"evenodd\" fill-opacity=\"1\" /><path clip-path=\"url(#clip290)\" d=\"M 0 0 M68.4782 555.884 L76.1171 555.884 L76.1171 529.519 L67.8069 531.185 L67.8069 526.926 L76.0708 525.259 L80.7467 525.259 L80.7467 555.884 L88.3855 555.884 L88.3855 559.819 L68.4782 559.819 L68.4782 555.884 Z\" fill=\"#000000\" fill-rule=\"evenodd\" fill-opacity=\"1\" /><path clip-path=\"url(#clip290)\" d=\"M 0 0 M93.4549 553.94 L98.3392 553.94 L98.3392 559.819 L93.4549 559.819 L93.4549 553.94 Z\" fill=\"#000000\" fill-rule=\"evenodd\" fill-opacity=\"1\" /><path clip-path=\"url(#clip290)\" d=\"M 0 0 M107.436 555.884 L123.756 555.884 L123.756 559.819 L101.811 559.819 L101.811 555.884 Q104.473 553.13 109.057 548.5 Q113.663 543.847 114.844 542.505 Q117.089 539.981 117.969 538.245 Q118.871 536.486 118.871 534.796 Q118.871 532.042 116.927 530.306 Q115.006 528.57 111.904 528.57 Q109.705 528.57 107.251 529.333 Q104.821 530.097 102.043 531.648 L102.043 526.926 Q104.867 525.792 107.321 525.213 Q109.774 524.634 111.811 524.634 Q117.182 524.634 120.376 527.32 Q123.571 530.005 123.571 534.495 Q123.571 536.625 122.76 538.546 Q121.973 540.444 119.867 543.037 Q119.288 543.708 116.186 546.926 Q113.084 550.12 107.436 555.884 Z\" fill=\"#000000\" fill-rule=\"evenodd\" fill-opacity=\"1\" /><path clip-path=\"url(#clip290)\" d=\"M 0 0 M66.3949 355.247 L74.0337 355.247 L74.0337 328.881 L65.7236 330.548 L65.7236 326.289 L73.9874 324.622 L78.6633 324.622 L78.6633 355.247 L86.3022 355.247 L86.3022 359.182 L66.3949 359.182 L66.3949 355.247 Z\" fill=\"#000000\" fill-rule=\"evenodd\" fill-opacity=\"1\" /><path clip-path=\"url(#clip290)\" d=\"M 0 0 M91.3716 353.303 L96.2558 353.303 L96.2558 359.182 L91.3716 359.182 L91.3716 353.303 Z\" fill=\"#000000\" fill-rule=\"evenodd\" fill-opacity=\"1\" /><path clip-path=\"url(#clip290)\" d=\"M 0 0 M114.172 328.696 L102.367 347.145 L114.172 347.145 L114.172 328.696 M112.946 324.622 L118.825 324.622 L118.825 347.145 L123.756 347.145 L123.756 351.034 L118.825 351.034 L118.825 359.182 L114.172 359.182 L114.172 351.034 L98.5706 351.034 L98.5706 346.52 L112.946 324.622 Z\" fill=\"#000000\" fill-rule=\"evenodd\" fill-opacity=\"1\" /><path clip-path=\"url(#clip290)\" d=\"M 0 0 M66.719 154.61 L74.3578 154.61 L74.3578 128.244 L66.0477 129.911 L66.0477 125.652 L74.3115 123.985 L78.9874 123.985 L78.9874 154.61 L86.6263 154.61 L86.6263 158.545 L66.719 158.545 L66.719 154.61 Z\" fill=\"#000000\" fill-rule=\"evenodd\" fill-opacity=\"1\" /><path clip-path=\"url(#clip290)\" d=\"M 0 0 M91.6957 152.665 L96.5799 152.665 L96.5799 158.545 L91.6957 158.545 L91.6957 152.665 Z\" fill=\"#000000\" fill-rule=\"evenodd\" fill-opacity=\"1\" /><path clip-path=\"url(#clip290)\" d=\"M 0 0 M112.228 139.402 Q109.08 139.402 107.228 141.554 Q105.399 143.707 105.399 147.457 Q105.399 151.184 107.228 153.36 Q109.08 155.513 112.228 155.513 Q115.376 155.513 117.205 153.36 Q119.057 151.184 119.057 147.457 Q119.057 143.707 117.205 141.554 Q115.376 139.402 112.228 139.402 M121.51 124.749 L121.51 129.008 Q119.751 128.175 117.946 127.735 Q116.163 127.295 114.404 127.295 Q109.774 127.295 107.321 130.42 Q104.89 133.545 104.543 139.865 Q105.909 137.851 107.969 136.786 Q110.029 135.698 112.506 135.698 Q117.714 135.698 120.723 138.869 Q123.756 142.017 123.756 147.457 Q123.756 152.781 120.608 155.999 Q117.459 159.216 112.228 159.216 Q106.233 159.216 103.061 154.633 Q99.8901 150.027 99.8901 141.3 Q99.8901 133.105 103.779 128.244 Q107.668 123.36 114.219 123.36 Q115.978 123.36 117.76 123.707 Q119.566 124.054 121.51 124.749 Z\" fill=\"#000000\" fill-rule=\"evenodd\" fill-opacity=\"1\" /><polyline clip-path=\"url(#clip292)\" style=\"stroke:#ff0000; stroke-width:4; stroke-opacity:1; fill:none\" points=\"\n",
       "  181.033,1044.13 235.088,993.973 289.143,943.814 343.198,893.654 397.253,843.495 451.308,793.336 505.363,743.177 559.418,693.017 613.473,642.858 667.528,592.699 \n",
       "  721.583,542.539 775.637,492.38 829.692,442.221 883.747,392.061 937.802,341.902 991.857,291.743 1045.91,241.584 \n",
       "  \"/>\n",
       "<circle clip-path=\"url(#clip292)\" cx=\"377.52\" cy=\"848.066\" r=\"14\" fill=\"#e26f46\" fill-rule=\"evenodd\" fill-opacity=\"1\" stroke=\"#000000\" stroke-opacity=\"1\" stroke-width=\"2.4\"/>\n",
       "<circle clip-path=\"url(#clip292)\" cx=\"164.539\" cy=\"1039.3\" r=\"14\" fill=\"#e26f46\" fill-rule=\"evenodd\" fill-opacity=\"1\" stroke=\"#000000\" stroke-opacity=\"1\" stroke-width=\"2.4\"/>\n",
       "<circle clip-path=\"url(#clip292)\" cx=\"791.848\" cy=\"421.053\" r=\"14\" fill=\"#e26f46\" fill-rule=\"evenodd\" fill-opacity=\"1\" stroke=\"#000000\" stroke-opacity=\"1\" stroke-width=\"2.4\"/>\n",
       "<circle clip-path=\"url(#clip292)\" cx=\"384.861\" cy=\"777.503\" r=\"14\" fill=\"#e26f46\" fill-rule=\"evenodd\" fill-opacity=\"1\" stroke=\"#000000\" stroke-opacity=\"1\" stroke-width=\"2.4\"/>\n",
       "<circle clip-path=\"url(#clip292)\" cx=\"491.304\" cy=\"779.772\" r=\"14\" fill=\"#e26f46\" fill-rule=\"evenodd\" fill-opacity=\"1\" stroke=\"#000000\" stroke-opacity=\"1\" stroke-width=\"2.4\"/>\n",
       "<circle clip-path=\"url(#clip292)\" cx=\"753.032\" cy=\"443.484\" r=\"14\" fill=\"#e26f46\" fill-rule=\"evenodd\" fill-opacity=\"1\" stroke=\"#000000\" stroke-opacity=\"1\" stroke-width=\"2.4\"/>\n",
       "<circle clip-path=\"url(#clip292)\" cx=\"573.923\" cy=\"662.057\" r=\"14\" fill=\"#e26f46\" fill-rule=\"evenodd\" fill-opacity=\"1\" stroke=\"#000000\" stroke-opacity=\"1\" stroke-width=\"2.4\"/>\n",
       "<circle clip-path=\"url(#clip292)\" cx=\"512.549\" cy=\"729.801\" r=\"14\" fill=\"#e26f46\" fill-rule=\"evenodd\" fill-opacity=\"1\" stroke=\"#000000\" stroke-opacity=\"1\" stroke-width=\"2.4\"/>\n",
       "<circle clip-path=\"url(#clip292)\" cx=\"515.239\" cy=\"702.84\" r=\"14\" fill=\"#e26f46\" fill-rule=\"evenodd\" fill-opacity=\"1\" stroke=\"#000000\" stroke-opacity=\"1\" stroke-width=\"2.4\"/>\n",
       "<circle clip-path=\"url(#clip292)\" cx=\"488.913\" cy=\"724.619\" r=\"14\" fill=\"#e26f46\" fill-rule=\"evenodd\" fill-opacity=\"1\" stroke=\"#000000\" stroke-opacity=\"1\" stroke-width=\"2.4\"/>\n",
       "<circle clip-path=\"url(#clip292)\" cx=\"444.353\" cy=\"781.243\" r=\"14\" fill=\"#e26f46\" fill-rule=\"evenodd\" fill-opacity=\"1\" stroke=\"#000000\" stroke-opacity=\"1\" stroke-width=\"2.4\"/>\n",
       "<circle clip-path=\"url(#clip292)\" cx=\"649.672\" cy=\"563.343\" r=\"14\" fill=\"#e26f46\" fill-rule=\"evenodd\" fill-opacity=\"1\" stroke=\"#000000\" stroke-opacity=\"1\" stroke-width=\"2.4\"/>\n",
       "<circle clip-path=\"url(#clip292)\" cx=\"553.452\" cy=\"651.334\" r=\"14\" fill=\"#e26f46\" fill-rule=\"evenodd\" fill-opacity=\"1\" stroke=\"#000000\" stroke-opacity=\"1\" stroke-width=\"2.4\"/>\n",
       "<circle clip-path=\"url(#clip292)\" cx=\"659.098\" cy=\"566.915\" r=\"14\" fill=\"#e26f46\" fill-rule=\"evenodd\" fill-opacity=\"1\" stroke=\"#000000\" stroke-opacity=\"1\" stroke-width=\"2.4\"/>\n",
       "<circle clip-path=\"url(#clip292)\" cx=\"554.919\" cy=\"718\" r=\"14\" fill=\"#e26f46\" fill-rule=\"evenodd\" fill-opacity=\"1\" stroke=\"#000000\" stroke-opacity=\"1\" stroke-width=\"2.4\"/>\n",
       "<circle clip-path=\"url(#clip292)\" cx=\"585.991\" cy=\"604.125\" r=\"14\" fill=\"#e26f46\" fill-rule=\"evenodd\" fill-opacity=\"1\" stroke=\"#000000\" stroke-opacity=\"1\" stroke-width=\"2.4\"/>\n",
       "<circle clip-path=\"url(#clip292)\" cx=\"510.223\" cy=\"634.081\" r=\"14\" fill=\"#e26f46\" fill-rule=\"evenodd\" fill-opacity=\"1\" stroke=\"#000000\" stroke-opacity=\"1\" stroke-width=\"2.4\"/>\n",
       "<circle clip-path=\"url(#clip292)\" cx=\"781.613\" cy=\"461.371\" r=\"14\" fill=\"#e26f46\" fill-rule=\"evenodd\" fill-opacity=\"1\" stroke=\"#000000\" stroke-opacity=\"1\" stroke-width=\"2.4\"/>\n",
       "<circle clip-path=\"url(#clip292)\" cx=\"572.872\" cy=\"632.368\" r=\"14\" fill=\"#e26f46\" fill-rule=\"evenodd\" fill-opacity=\"1\" stroke=\"#000000\" stroke-opacity=\"1\" stroke-width=\"2.4\"/>\n",
       "<circle clip-path=\"url(#clip292)\" cx=\"952.991\" cy=\"248.914\" r=\"14\" fill=\"#e26f46\" fill-rule=\"evenodd\" fill-opacity=\"1\" stroke=\"#000000\" stroke-opacity=\"1\" stroke-width=\"2.4\"/>\n",
       "<circle clip-path=\"url(#clip292)\" cx=\"393.487\" cy=\"821.097\" r=\"14\" fill=\"#e26f46\" fill-rule=\"evenodd\" fill-opacity=\"1\" stroke=\"#000000\" stroke-opacity=\"1\" stroke-width=\"2.4\"/>\n",
       "<circle clip-path=\"url(#clip292)\" cx=\"432.736\" cy=\"742.921\" r=\"14\" fill=\"#e26f46\" fill-rule=\"evenodd\" fill-opacity=\"1\" stroke=\"#000000\" stroke-opacity=\"1\" stroke-width=\"2.4\"/>\n",
       "<circle clip-path=\"url(#clip292)\" cx=\"580.894\" cy=\"666.832\" r=\"14\" fill=\"#e26f46\" fill-rule=\"evenodd\" fill-opacity=\"1\" stroke=\"#000000\" stroke-opacity=\"1\" stroke-width=\"2.4\"/>\n",
       "<circle clip-path=\"url(#clip292)\" cx=\"628.643\" cy=\"567.866\" r=\"14\" fill=\"#e26f46\" fill-rule=\"evenodd\" fill-opacity=\"1\" stroke=\"#000000\" stroke-opacity=\"1\" stroke-width=\"2.4\"/>\n",
       "<circle clip-path=\"url(#clip292)\" cx=\"312.127\" cy=\"896.775\" r=\"14\" fill=\"#e26f46\" fill-rule=\"evenodd\" fill-opacity=\"1\" stroke=\"#000000\" stroke-opacity=\"1\" stroke-width=\"2.4\"/>\n",
       "<circle clip-path=\"url(#clip292)\" cx=\"733.743\" cy=\"531.773\" r=\"14\" fill=\"#e26f46\" fill-rule=\"evenodd\" fill-opacity=\"1\" stroke=\"#000000\" stroke-opacity=\"1\" stroke-width=\"2.4\"/>\n",
       "<circle clip-path=\"url(#clip292)\" cx=\"406.838\" cy=\"834.767\" r=\"14\" fill=\"#e26f46\" fill-rule=\"evenodd\" fill-opacity=\"1\" stroke=\"#000000\" stroke-opacity=\"1\" stroke-width=\"2.4\"/>\n",
       "<circle clip-path=\"url(#clip292)\" cx=\"688.526\" cy=\"596.735\" r=\"14\" fill=\"#e26f46\" fill-rule=\"evenodd\" fill-opacity=\"1\" stroke=\"#000000\" stroke-opacity=\"1\" stroke-width=\"2.4\"/>\n",
       "<circle clip-path=\"url(#clip292)\" cx=\"484.36\" cy=\"775.817\" r=\"14\" fill=\"#e26f46\" fill-rule=\"evenodd\" fill-opacity=\"1\" stroke=\"#000000\" stroke-opacity=\"1\" stroke-width=\"2.4\"/>\n",
       "<circle clip-path=\"url(#clip292)\" cx=\"578.136\" cy=\"639.703\" r=\"14\" fill=\"#e26f46\" fill-rule=\"evenodd\" fill-opacity=\"1\" stroke=\"#000000\" stroke-opacity=\"1\" stroke-width=\"2.4\"/>\n",
       "<circle clip-path=\"url(#clip292)\" cx=\"484.518\" cy=\"746.349\" r=\"14\" fill=\"#e26f46\" fill-rule=\"evenodd\" fill-opacity=\"1\" stroke=\"#000000\" stroke-opacity=\"1\" stroke-width=\"2.4\"/>\n",
       "<circle clip-path=\"url(#clip292)\" cx=\"883.2\" cy=\"542.788\" r=\"14\" fill=\"#e26f46\" fill-rule=\"evenodd\" fill-opacity=\"1\" stroke=\"#000000\" stroke-opacity=\"1\" stroke-width=\"2.4\"/>\n",
       "<circle clip-path=\"url(#clip292)\" cx=\"452.076\" cy=\"761.829\" r=\"14\" fill=\"#e26f46\" fill-rule=\"evenodd\" fill-opacity=\"1\" stroke=\"#000000\" stroke-opacity=\"1\" stroke-width=\"2.4\"/>\n",
       "<circle clip-path=\"url(#clip292)\" cx=\"430.996\" cy=\"783.738\" r=\"14\" fill=\"#e26f46\" fill-rule=\"evenodd\" fill-opacity=\"1\" stroke=\"#000000\" stroke-opacity=\"1\" stroke-width=\"2.4\"/>\n",
       "<circle clip-path=\"url(#clip292)\" cx=\"186.947\" cy=\"1029.07\" r=\"14\" fill=\"#e26f46\" fill-rule=\"evenodd\" fill-opacity=\"1\" stroke=\"#000000\" stroke-opacity=\"1\" stroke-width=\"2.4\"/>\n",
       "<circle clip-path=\"url(#clip292)\" cx=\"759.83\" cy=\"473.432\" r=\"14\" fill=\"#e26f46\" fill-rule=\"evenodd\" fill-opacity=\"1\" stroke=\"#000000\" stroke-opacity=\"1\" stroke-width=\"2.4\"/>\n",
       "<circle clip-path=\"url(#clip292)\" cx=\"406.725\" cy=\"780.986\" r=\"14\" fill=\"#e26f46\" fill-rule=\"evenodd\" fill-opacity=\"1\" stroke=\"#000000\" stroke-opacity=\"1\" stroke-width=\"2.4\"/>\n",
       "<circle clip-path=\"url(#clip292)\" cx=\"1123.97\" cy=\"76.2797\" r=\"14\" fill=\"#e26f46\" fill-rule=\"evenodd\" fill-opacity=\"1\" stroke=\"#000000\" stroke-opacity=\"1\" stroke-width=\"2.4\"/>\n",
       "<circle clip-path=\"url(#clip292)\" cx=\"567.378\" cy=\"716.002\" r=\"14\" fill=\"#e26f46\" fill-rule=\"evenodd\" fill-opacity=\"1\" stroke=\"#000000\" stroke-opacity=\"1\" stroke-width=\"2.4\"/>\n",
       "<circle clip-path=\"url(#clip292)\" cx=\"414.005\" cy=\"798.631\" r=\"14\" fill=\"#e26f46\" fill-rule=\"evenodd\" fill-opacity=\"1\" stroke=\"#000000\" stroke-opacity=\"1\" stroke-width=\"2.4\"/>\n",
       "<circle clip-path=\"url(#clip292)\" cx=\"445.134\" cy=\"732.598\" r=\"14\" fill=\"#e26f46\" fill-rule=\"evenodd\" fill-opacity=\"1\" stroke=\"#000000\" stroke-opacity=\"1\" stroke-width=\"2.4\"/>\n",
       "<circle clip-path=\"url(#clip292)\" cx=\"708.504\" cy=\"549.222\" r=\"14\" fill=\"#e26f46\" fill-rule=\"evenodd\" fill-opacity=\"1\" stroke=\"#000000\" stroke-opacity=\"1\" stroke-width=\"2.4\"/>\n",
       "<circle clip-path=\"url(#clip292)\" cx=\"677.822\" cy=\"541.309\" r=\"14\" fill=\"#e26f46\" fill-rule=\"evenodd\" fill-opacity=\"1\" stroke=\"#000000\" stroke-opacity=\"1\" stroke-width=\"2.4\"/>\n",
       "<circle clip-path=\"url(#clip292)\" cx=\"636.211\" cy=\"594.493\" r=\"14\" fill=\"#e26f46\" fill-rule=\"evenodd\" fill-opacity=\"1\" stroke=\"#000000\" stroke-opacity=\"1\" stroke-width=\"2.4\"/>\n",
       "<circle clip-path=\"url(#clip292)\" cx=\"596.571\" cy=\"697.333\" r=\"14\" fill=\"#e26f46\" fill-rule=\"evenodd\" fill-opacity=\"1\" stroke=\"#000000\" stroke-opacity=\"1\" stroke-width=\"2.4\"/>\n",
       "<circle clip-path=\"url(#clip292)\" cx=\"490.295\" cy=\"719.59\" r=\"14\" fill=\"#e26f46\" fill-rule=\"evenodd\" fill-opacity=\"1\" stroke=\"#000000\" stroke-opacity=\"1\" stroke-width=\"2.4\"/>\n",
       "<circle clip-path=\"url(#clip292)\" cx=\"631.972\" cy=\"590.68\" r=\"14\" fill=\"#e26f46\" fill-rule=\"evenodd\" fill-opacity=\"1\" stroke=\"#000000\" stroke-opacity=\"1\" stroke-width=\"2.4\"/>\n",
       "<circle clip-path=\"url(#clip292)\" cx=\"945.383\" cy=\"309.053\" r=\"14\" fill=\"#e26f46\" fill-rule=\"evenodd\" fill-opacity=\"1\" stroke=\"#000000\" stroke-opacity=\"1\" stroke-width=\"2.4\"/>\n",
       "<circle clip-path=\"url(#clip292)\" cx=\"501.902\" cy=\"719.575\" r=\"14\" fill=\"#e26f46\" fill-rule=\"evenodd\" fill-opacity=\"1\" stroke=\"#000000\" stroke-opacity=\"1\" stroke-width=\"2.4\"/>\n",
       "<circle clip-path=\"url(#clip292)\" cx=\"734.467\" cy=\"476.13\" r=\"14\" fill=\"#e26f46\" fill-rule=\"evenodd\" fill-opacity=\"1\" stroke=\"#000000\" stroke-opacity=\"1\" stroke-width=\"2.4\"/>\n",
       "<circle clip-path=\"url(#clip292)\" cx=\"624.847\" cy=\"603.84\" r=\"14\" fill=\"#e26f46\" fill-rule=\"evenodd\" fill-opacity=\"1\" stroke=\"#000000\" stroke-opacity=\"1\" stroke-width=\"2.4\"/>\n",
       "<circle clip-path=\"url(#clip292)\" cx=\"639.495\" cy=\"580.049\" r=\"14\" fill=\"#e26f46\" fill-rule=\"evenodd\" fill-opacity=\"1\" stroke=\"#000000\" stroke-opacity=\"1\" stroke-width=\"2.4\"/>\n",
       "<circle clip-path=\"url(#clip292)\" cx=\"353.865\" cy=\"856.084\" r=\"14\" fill=\"#e26f46\" fill-rule=\"evenodd\" fill-opacity=\"1\" stroke=\"#000000\" stroke-opacity=\"1\" stroke-width=\"2.4\"/>\n",
       "<circle clip-path=\"url(#clip292)\" cx=\"537.516\" cy=\"670.188\" r=\"14\" fill=\"#e26f46\" fill-rule=\"evenodd\" fill-opacity=\"1\" stroke=\"#000000\" stroke-opacity=\"1\" stroke-width=\"2.4\"/>\n",
       "<circle clip-path=\"url(#clip292)\" cx=\"804.691\" cy=\"417.346\" r=\"14\" fill=\"#e26f46\" fill-rule=\"evenodd\" fill-opacity=\"1\" stroke=\"#000000\" stroke-opacity=\"1\" stroke-width=\"2.4\"/>\n",
       "<circle clip-path=\"url(#clip292)\" cx=\"636.008\" cy=\"578.849\" r=\"14\" fill=\"#e26f46\" fill-rule=\"evenodd\" fill-opacity=\"1\" stroke=\"#000000\" stroke-opacity=\"1\" stroke-width=\"2.4\"/>\n",
       "<circle clip-path=\"url(#clip292)\" cx=\"622.865\" cy=\"613.281\" r=\"14\" fill=\"#e26f46\" fill-rule=\"evenodd\" fill-opacity=\"1\" stroke=\"#000000\" stroke-opacity=\"1\" stroke-width=\"2.4\"/>\n",
       "<circle clip-path=\"url(#clip292)\" cx=\"421.893\" cy=\"813.335\" r=\"14\" fill=\"#e26f46\" fill-rule=\"evenodd\" fill-opacity=\"1\" stroke=\"#000000\" stroke-opacity=\"1\" stroke-width=\"2.4\"/>\n",
       "<circle clip-path=\"url(#clip292)\" cx=\"554.576\" cy=\"725.421\" r=\"14\" fill=\"#e26f46\" fill-rule=\"evenodd\" fill-opacity=\"1\" stroke=\"#000000\" stroke-opacity=\"1\" stroke-width=\"2.4\"/>\n",
       "<circle clip-path=\"url(#clip292)\" cx=\"550.536\" cy=\"690.991\" r=\"14\" fill=\"#e26f46\" fill-rule=\"evenodd\" fill-opacity=\"1\" stroke=\"#000000\" stroke-opacity=\"1\" stroke-width=\"2.4\"/>\n",
       "<circle clip-path=\"url(#clip292)\" cx=\"468.647\" cy=\"755.42\" r=\"14\" fill=\"#e26f46\" fill-rule=\"evenodd\" fill-opacity=\"1\" stroke=\"#000000\" stroke-opacity=\"1\" stroke-width=\"2.4\"/>\n",
       "<circle clip-path=\"url(#clip292)\" cx=\"525.888\" cy=\"701.557\" r=\"14\" fill=\"#e26f46\" fill-rule=\"evenodd\" fill-opacity=\"1\" stroke=\"#000000\" stroke-opacity=\"1\" stroke-width=\"2.4\"/>\n",
       "<circle clip-path=\"url(#clip292)\" cx=\"415.344\" cy=\"764.279\" r=\"14\" fill=\"#e26f46\" fill-rule=\"evenodd\" fill-opacity=\"1\" stroke=\"#000000\" stroke-opacity=\"1\" stroke-width=\"2.4\"/>\n",
       "<circle clip-path=\"url(#clip292)\" cx=\"321.454\" cy=\"842.814\" r=\"14\" fill=\"#e26f46\" fill-rule=\"evenodd\" fill-opacity=\"1\" stroke=\"#000000\" stroke-opacity=\"1\" stroke-width=\"2.4\"/>\n",
       "<circle clip-path=\"url(#clip292)\" cx=\"453.063\" cy=\"780.802\" r=\"14\" fill=\"#e26f46\" fill-rule=\"evenodd\" fill-opacity=\"1\" stroke=\"#000000\" stroke-opacity=\"1\" stroke-width=\"2.4\"/>\n",
       "<circle clip-path=\"url(#clip292)\" cx=\"621.593\" cy=\"584.179\" r=\"14\" fill=\"#e26f46\" fill-rule=\"evenodd\" fill-opacity=\"1\" stroke=\"#000000\" stroke-opacity=\"1\" stroke-width=\"2.4\"/>\n",
       "<circle clip-path=\"url(#clip292)\" cx=\"353.988\" cy=\"844.807\" r=\"14\" fill=\"#e26f46\" fill-rule=\"evenodd\" fill-opacity=\"1\" stroke=\"#000000\" stroke-opacity=\"1\" stroke-width=\"2.4\"/>\n",
       "<circle clip-path=\"url(#clip292)\" cx=\"336.006\" cy=\"921.187\" r=\"14\" fill=\"#e26f46\" fill-rule=\"evenodd\" fill-opacity=\"1\" stroke=\"#000000\" stroke-opacity=\"1\" stroke-width=\"2.4\"/>\n",
       "<circle clip-path=\"url(#clip292)\" cx=\"255.861\" cy=\"956.858\" r=\"14\" fill=\"#e26f46\" fill-rule=\"evenodd\" fill-opacity=\"1\" stroke=\"#000000\" stroke-opacity=\"1\" stroke-width=\"2.4\"/>\n",
       "<circle clip-path=\"url(#clip292)\" cx=\"497.506\" cy=\"717.373\" r=\"14\" fill=\"#e26f46\" fill-rule=\"evenodd\" fill-opacity=\"1\" stroke=\"#000000\" stroke-opacity=\"1\" stroke-width=\"2.4\"/>\n",
       "<circle clip-path=\"url(#clip292)\" cx=\"561.665\" cy=\"648.487\" r=\"14\" fill=\"#e26f46\" fill-rule=\"evenodd\" fill-opacity=\"1\" stroke=\"#000000\" stroke-opacity=\"1\" stroke-width=\"2.4\"/>\n",
       "<circle clip-path=\"url(#clip292)\" cx=\"528.473\" cy=\"681.922\" r=\"14\" fill=\"#e26f46\" fill-rule=\"evenodd\" fill-opacity=\"1\" stroke=\"#000000\" stroke-opacity=\"1\" stroke-width=\"2.4\"/>\n",
       "<circle clip-path=\"url(#clip292)\" cx=\"381.443\" cy=\"835.285\" r=\"14\" fill=\"#e26f46\" fill-rule=\"evenodd\" fill-opacity=\"1\" stroke=\"#000000\" stroke-opacity=\"1\" stroke-width=\"2.4\"/>\n",
       "<circle clip-path=\"url(#clip292)\" cx=\"431.147\" cy=\"771.204\" r=\"14\" fill=\"#e26f46\" fill-rule=\"evenodd\" fill-opacity=\"1\" stroke=\"#000000\" stroke-opacity=\"1\" stroke-width=\"2.4\"/>\n",
       "<circle clip-path=\"url(#clip292)\" cx=\"538.821\" cy=\"706.287\" r=\"14\" fill=\"#e26f46\" fill-rule=\"evenodd\" fill-opacity=\"1\" stroke=\"#000000\" stroke-opacity=\"1\" stroke-width=\"2.4\"/>\n",
       "<circle clip-path=\"url(#clip292)\" cx=\"523.26\" cy=\"685.123\" r=\"14\" fill=\"#e26f46\" fill-rule=\"evenodd\" fill-opacity=\"1\" stroke=\"#000000\" stroke-opacity=\"1\" stroke-width=\"2.4\"/>\n",
       "<circle clip-path=\"url(#clip292)\" cx=\"328.749\" cy=\"856.408\" r=\"14\" fill=\"#e26f46\" fill-rule=\"evenodd\" fill-opacity=\"1\" stroke=\"#000000\" stroke-opacity=\"1\" stroke-width=\"2.4\"/>\n",
       "<circle clip-path=\"url(#clip292)\" cx=\"796.66\" cy=\"423.947\" r=\"14\" fill=\"#e26f46\" fill-rule=\"evenodd\" fill-opacity=\"1\" stroke=\"#000000\" stroke-opacity=\"1\" stroke-width=\"2.4\"/>\n",
       "<circle clip-path=\"url(#clip292)\" cx=\"447.843\" cy=\"788.853\" r=\"14\" fill=\"#e26f46\" fill-rule=\"evenodd\" fill-opacity=\"1\" stroke=\"#000000\" stroke-opacity=\"1\" stroke-width=\"2.4\"/>\n",
       "<circle clip-path=\"url(#clip292)\" cx=\"245.883\" cy=\"961.194\" r=\"14\" fill=\"#e26f46\" fill-rule=\"evenodd\" fill-opacity=\"1\" stroke=\"#000000\" stroke-opacity=\"1\" stroke-width=\"2.4\"/>\n",
       "<circle clip-path=\"url(#clip292)\" cx=\"589.331\" cy=\"633.671\" r=\"14\" fill=\"#e26f46\" fill-rule=\"evenodd\" fill-opacity=\"1\" stroke=\"#000000\" stroke-opacity=\"1\" stroke-width=\"2.4\"/>\n",
       "<circle clip-path=\"url(#clip292)\" cx=\"548.291\" cy=\"722.157\" r=\"14\" fill=\"#e26f46\" fill-rule=\"evenodd\" fill-opacity=\"1\" stroke=\"#000000\" stroke-opacity=\"1\" stroke-width=\"2.4\"/>\n",
       "<circle clip-path=\"url(#clip292)\" cx=\"468.138\" cy=\"720.412\" r=\"14\" fill=\"#e26f46\" fill-rule=\"evenodd\" fill-opacity=\"1\" stroke=\"#000000\" stroke-opacity=\"1\" stroke-width=\"2.4\"/>\n",
       "<circle clip-path=\"url(#clip292)\" cx=\"740.458\" cy=\"434.571\" r=\"14\" fill=\"#e26f46\" fill-rule=\"evenodd\" fill-opacity=\"1\" stroke=\"#000000\" stroke-opacity=\"1\" stroke-width=\"2.4\"/>\n",
       "<circle clip-path=\"url(#clip292)\" cx=\"493.516\" cy=\"720.71\" r=\"14\" fill=\"#e26f46\" fill-rule=\"evenodd\" fill-opacity=\"1\" stroke=\"#000000\" stroke-opacity=\"1\" stroke-width=\"2.4\"/>\n",
       "<circle clip-path=\"url(#clip292)\" cx=\"555.949\" cy=\"675.28\" r=\"14\" fill=\"#e26f46\" fill-rule=\"evenodd\" fill-opacity=\"1\" stroke=\"#000000\" stroke-opacity=\"1\" stroke-width=\"2.4\"/>\n",
       "<circle clip-path=\"url(#clip292)\" cx=\"461.343\" cy=\"800.892\" r=\"14\" fill=\"#e26f46\" fill-rule=\"evenodd\" fill-opacity=\"1\" stroke=\"#000000\" stroke-opacity=\"1\" stroke-width=\"2.4\"/>\n",
       "<circle clip-path=\"url(#clip292)\" cx=\"572.583\" cy=\"652.921\" r=\"14\" fill=\"#e26f46\" fill-rule=\"evenodd\" fill-opacity=\"1\" stroke=\"#000000\" stroke-opacity=\"1\" stroke-width=\"2.4\"/>\n",
       "<circle clip-path=\"url(#clip292)\" cx=\"579.817\" cy=\"659.782\" r=\"14\" fill=\"#e26f46\" fill-rule=\"evenodd\" fill-opacity=\"1\" stroke=\"#000000\" stroke-opacity=\"1\" stroke-width=\"2.4\"/>\n",
       "<circle clip-path=\"url(#clip292)\" cx=\"1005.27\" cy=\"207.871\" r=\"14\" fill=\"#e26f46\" fill-rule=\"evenodd\" fill-opacity=\"1\" stroke=\"#000000\" stroke-opacity=\"1\" stroke-width=\"2.4\"/>\n",
       "<circle clip-path=\"url(#clip292)\" cx=\"641.63\" cy=\"586.108\" r=\"14\" fill=\"#e26f46\" fill-rule=\"evenodd\" fill-opacity=\"1\" stroke=\"#000000\" stroke-opacity=\"1\" stroke-width=\"2.4\"/>\n",
       "<circle clip-path=\"url(#clip292)\" cx=\"778.64\" cy=\"494.655\" r=\"14\" fill=\"#e26f46\" fill-rule=\"evenodd\" fill-opacity=\"1\" stroke=\"#000000\" stroke-opacity=\"1\" stroke-width=\"2.4\"/>\n",
       "<circle clip-path=\"url(#clip292)\" cx=\"382.62\" cy=\"811.469\" r=\"14\" fill=\"#e26f46\" fill-rule=\"evenodd\" fill-opacity=\"1\" stroke=\"#000000\" stroke-opacity=\"1\" stroke-width=\"2.4\"/>\n",
       "<circle clip-path=\"url(#clip292)\" cx=\"336.159\" cy=\"885.681\" r=\"14\" fill=\"#e26f46\" fill-rule=\"evenodd\" fill-opacity=\"1\" stroke=\"#000000\" stroke-opacity=\"1\" stroke-width=\"2.4\"/>\n",
       "<circle clip-path=\"url(#clip292)\" cx=\"591.683\" cy=\"646.093\" r=\"14\" fill=\"#e26f46\" fill-rule=\"evenodd\" fill-opacity=\"1\" stroke=\"#000000\" stroke-opacity=\"1\" stroke-width=\"2.4\"/>\n",
       "<circle clip-path=\"url(#clip292)\" cx=\"537.476\" cy=\"734.796\" r=\"14\" fill=\"#e26f46\" fill-rule=\"evenodd\" fill-opacity=\"1\" stroke=\"#000000\" stroke-opacity=\"1\" stroke-width=\"2.4\"/>\n",
       "<circle clip-path=\"url(#clip292)\" cx=\"550.175\" cy=\"647.699\" r=\"14\" fill=\"#e26f46\" fill-rule=\"evenodd\" fill-opacity=\"1\" stroke=\"#000000\" stroke-opacity=\"1\" stroke-width=\"2.4\"/>\n",
       "<circle clip-path=\"url(#clip292)\" cx=\"695.59\" cy=\"518.216\" r=\"14\" fill=\"#e26f46\" fill-rule=\"evenodd\" fill-opacity=\"1\" stroke=\"#000000\" stroke-opacity=\"1\" stroke-width=\"2.4\"/>\n",
       "<circle clip-path=\"url(#clip292)\" cx=\"467.817\" cy=\"751.736\" r=\"14\" fill=\"#e26f46\" fill-rule=\"evenodd\" fill-opacity=\"1\" stroke=\"#000000\" stroke-opacity=\"1\" stroke-width=\"2.4\"/>\n",
       "<circle clip-path=\"url(#clip292)\" cx=\"363.856\" cy=\"861.838\" r=\"14\" fill=\"#e26f46\" fill-rule=\"evenodd\" fill-opacity=\"1\" stroke=\"#000000\" stroke-opacity=\"1\" stroke-width=\"2.4\"/>\n",
       "<path clip-path=\"url(#clip290)\" d=\"\n",
       "M801.525 179.724 L1116.76 179.724 L1116.76 58.7641 L801.525 58.7641  Z\n",
       "  \" fill=\"#ffffff\" fill-rule=\"evenodd\" fill-opacity=\"1\"/>\n",
       "<polyline clip-path=\"url(#clip290)\" style=\"stroke:#000000; stroke-width:4; stroke-opacity:1; fill:none\" points=\"\n",
       "  801.525,179.724 1116.76,179.724 1116.76,58.7641 801.525,58.7641 801.525,179.724 \n",
       "  \"/>\n",
       "<circle clip-path=\"url(#clip290)\" cx=\"855.525\" cy=\"119.244\" r=\"23\" fill=\"#e26f46\" fill-rule=\"evenodd\" fill-opacity=\"1\" stroke=\"#000000\" stroke-opacity=\"1\" stroke-width=\"3.84\"/>\n",
       "<path clip-path=\"url(#clip290)\" d=\"M 0 0 M897.525 101.964 L902.225 101.964 L902.225 122.959 Q902.225 128.515 904.238 130.969 Q906.252 133.399 910.766 133.399 Q915.257 133.399 917.271 130.969 Q919.285 128.515 919.285 122.959 L919.285 101.964 L923.984 101.964 L923.984 123.538 Q923.984 130.297 920.627 133.746 Q917.294 137.195 910.766 137.195 Q904.215 137.195 900.859 133.746 Q897.525 130.297 897.525 123.538 L897.525 101.964 Z\" fill=\"#000000\" fill-rule=\"evenodd\" fill-opacity=\"1\" /><path clip-path=\"url(#clip290)\" d=\"M 0 0 M926.298 121.64 L938.775 121.64 L938.775 125.436 L926.298 125.436 L926.298 121.64 Z\" fill=\"#000000\" fill-rule=\"evenodd\" fill-opacity=\"1\" /><path clip-path=\"url(#clip290)\" d=\"M 0 0 M949.562 136.524 L936.368 101.964 L941.252 101.964 L952.201 131.061 L963.173 101.964 L968.034 101.964 L954.863 136.524 L949.562 136.524 Z\" fill=\"#000000\" fill-rule=\"evenodd\" fill-opacity=\"1\" /><path clip-path=\"url(#clip290)\" d=\"M 0 0 M1009.75 122.496 L1009.75 124.58 L990.164 124.58 Q990.442 128.978 992.803 131.293 Q995.187 133.584 999.423 133.584 Q1001.88 133.584 1004.17 132.982 Q1006.48 132.381 1008.75 131.177 L1008.75 135.205 Q1006.46 136.177 1004.05 136.686 Q1001.65 137.195 999.168 137.195 Q992.965 137.195 989.331 133.584 Q985.719 129.973 985.719 123.816 Q985.719 117.45 989.145 113.723 Q992.594 109.973 998.428 109.973 Q1003.66 109.973 1006.69 113.353 Q1009.75 116.709 1009.75 122.496 M1005.49 121.246 Q1005.44 117.751 1003.52 115.668 Q1001.62 113.584 998.474 113.584 Q994.909 113.584 992.756 115.598 Q990.627 117.612 990.303 121.27 L1005.49 121.246 Z\" fill=\"#000000\" fill-rule=\"evenodd\" fill-opacity=\"1\" /><path clip-path=\"url(#clip290)\" d=\"M 0 0 M1029.24 114.58 Q1028.52 114.163 1027.66 113.978 Q1026.83 113.77 1025.81 113.77 Q1022.2 113.77 1020.26 116.131 Q1018.34 118.469 1018.34 122.867 L1018.34 136.524 L1014.05 136.524 L1014.05 110.598 L1018.34 110.598 L1018.34 114.626 Q1019.68 112.265 1021.83 111.131 Q1023.98 109.973 1027.06 109.973 Q1027.5 109.973 1028.03 110.043 Q1028.57 110.089 1029.21 110.205 L1029.24 114.58 Z\" fill=\"#000000\" fill-rule=\"evenodd\" fill-opacity=\"1\" /><path clip-path=\"url(#clip290)\" d=\"M 0 0 M1047.9 114.58 Q1047.18 114.163 1046.32 113.978 Q1045.49 113.77 1044.47 113.77 Q1040.86 113.77 1038.91 116.131 Q1036.99 118.469 1036.99 122.867 L1036.99 136.524 L1032.71 136.524 L1032.71 110.598 L1036.99 110.598 L1036.99 114.626 Q1038.33 112.265 1040.49 111.131 Q1042.64 109.973 1045.72 109.973 Q1046.16 109.973 1046.69 110.043 Q1047.22 110.089 1047.87 110.205 L1047.9 114.58 Z\" fill=\"#000000\" fill-rule=\"evenodd\" fill-opacity=\"1\" /><path clip-path=\"url(#clip290)\" d=\"M 0 0 M1061.37 113.584 Q1057.94 113.584 1055.95 116.27 Q1053.96 118.932 1053.96 123.584 Q1053.96 128.237 1055.93 130.922 Q1057.92 133.584 1061.37 133.584 Q1064.77 133.584 1066.76 130.899 Q1068.75 128.214 1068.75 123.584 Q1068.75 118.978 1066.76 116.293 Q1064.77 113.584 1061.37 113.584 M1061.37 109.973 Q1066.92 109.973 1070.09 113.584 Q1073.27 117.195 1073.27 123.584 Q1073.27 129.95 1070.09 133.584 Q1066.92 137.195 1061.37 137.195 Q1055.79 137.195 1052.62 133.584 Q1049.47 129.95 1049.47 123.584 Q1049.47 117.195 1052.62 113.584 Q1055.79 109.973 1061.37 109.973 Z\" fill=\"#000000\" fill-rule=\"evenodd\" fill-opacity=\"1\" /><path clip-path=\"url(#clip290)\" d=\"M 0 0 M1092.76 114.58 Q1092.04 114.163 1091.18 113.978 Q1090.35 113.77 1089.33 113.77 Q1085.72 113.77 1083.77 116.131 Q1081.85 118.469 1081.85 122.867 L1081.85 136.524 L1077.57 136.524 L1077.57 110.598 L1081.85 110.598 L1081.85 114.626 Q1083.2 112.265 1085.35 111.131 Q1087.5 109.973 1090.58 109.973 Q1091.02 109.973 1091.55 110.043 Q1092.08 110.089 1092.73 110.205 L1092.76 114.58 Z\" fill=\"#000000\" fill-rule=\"evenodd\" fill-opacity=\"1\" /></svg>\n"
      ]
     },
     "execution_count": 7,
     "metadata": {},
     "output_type": "execute_result"
    }
   ],
   "source": [
    "x_seq = collect(0.7:0.05:1.5);\n",
    "y_seq = x_seq;\n",
    "\n",
    "p = plot(size=(300, 300));\n",
    "plot!(p, x_seq, y_seq, color=:red, label=\"\")\n",
    "scatter!(U, V, label=\"U-V error\")\n",
    "p"
   ]
  },
  {
   "cell_type": "markdown",
   "metadata": {},
   "source": [
    "# 例40 Kはいくつが良いか"
   ]
  },
  {
   "cell_type": "code",
   "execution_count": 8,
   "metadata": {},
   "outputs": [
    {
     "data": {
      "image/svg+xml": [
       "<?xml version=\"1.0\" encoding=\"utf-8\"?>\n",
       "<svg xmlns=\"http://www.w3.org/2000/svg\" xmlns:xlink=\"http://www.w3.org/1999/xlink\" width=\"500\" height=\"500\" viewBox=\"0 0 2000 2000\">\n",
       "<defs>\n",
       "  <clipPath id=\"clip330\">\n",
       "    <rect x=\"0\" y=\"0\" width=\"2000\" height=\"2000\"/>\n",
       "  </clipPath>\n",
       "</defs>\n",
       "<path clip-path=\"url(#clip330)\" d=\"\n",
       "M0 2000 L2000 2000 L2000 0 L0 0  Z\n",
       "  \" fill=\"#ffffff\" fill-rule=\"evenodd\" fill-opacity=\"1\"/>\n",
       "<defs>\n",
       "  <clipPath id=\"clip331\">\n",
       "    <rect x=\"400\" y=\"200\" width=\"1401\" height=\"1401\"/>\n",
       "  </clipPath>\n",
       "</defs>\n",
       "<path clip-path=\"url(#clip330)\" d=\"\n",
       "M142.714 1865.17 L1952.76 1865.17 L1952.76 47.2441 L142.714 47.2441  Z\n",
       "  \" fill=\"#ffffff\" fill-rule=\"evenodd\" fill-opacity=\"1\"/>\n",
       "<defs>\n",
       "  <clipPath id=\"clip332\">\n",
       "    <rect x=\"142\" y=\"47\" width=\"1811\" height=\"1819\"/>\n",
       "  </clipPath>\n",
       "</defs>\n",
       "<polyline clip-path=\"url(#clip332)\" style=\"stroke:#000000; stroke-width:2; stroke-opacity:0.1; fill:none\" points=\"\n",
       "  159.093,1865.17 159.093,47.2441 \n",
       "  \"/>\n",
       "<polyline clip-path=\"url(#clip332)\" style=\"stroke:#000000; stroke-width:2; stroke-opacity:0.1; fill:none\" points=\"\n",
       "  594.702,1865.17 594.702,47.2441 \n",
       "  \"/>\n",
       "<polyline clip-path=\"url(#clip332)\" style=\"stroke:#000000; stroke-width:2; stroke-opacity:0.1; fill:none\" points=\"\n",
       "  1030.31,1865.17 1030.31,47.2441 \n",
       "  \"/>\n",
       "<polyline clip-path=\"url(#clip332)\" style=\"stroke:#000000; stroke-width:2; stroke-opacity:0.1; fill:none\" points=\"\n",
       "  1465.92,1865.17 1465.92,47.2441 \n",
       "  \"/>\n",
       "<polyline clip-path=\"url(#clip332)\" style=\"stroke:#000000; stroke-width:2; stroke-opacity:0.1; fill:none\" points=\"\n",
       "  1901.53,1865.17 1901.53,47.2441 \n",
       "  \"/>\n",
       "<polyline clip-path=\"url(#clip332)\" style=\"stroke:#000000; stroke-width:2; stroke-opacity:0.1; fill:none\" points=\"\n",
       "  142.714,1865.17 1952.76,1865.17 \n",
       "  \"/>\n",
       "<polyline clip-path=\"url(#clip332)\" style=\"stroke:#000000; stroke-width:2; stroke-opacity:0.1; fill:none\" points=\"\n",
       "  142.714,1501.58 1952.76,1501.58 \n",
       "  \"/>\n",
       "<polyline clip-path=\"url(#clip332)\" style=\"stroke:#000000; stroke-width:2; stroke-opacity:0.1; fill:none\" points=\"\n",
       "  142.714,1138 1952.76,1138 \n",
       "  \"/>\n",
       "<polyline clip-path=\"url(#clip332)\" style=\"stroke:#000000; stroke-width:2; stroke-opacity:0.1; fill:none\" points=\"\n",
       "  142.714,774.414 1952.76,774.414 \n",
       "  \"/>\n",
       "<polyline clip-path=\"url(#clip332)\" style=\"stroke:#000000; stroke-width:2; stroke-opacity:0.1; fill:none\" points=\"\n",
       "  142.714,410.829 1952.76,410.829 \n",
       "  \"/>\n",
       "<polyline clip-path=\"url(#clip332)\" style=\"stroke:#000000; stroke-width:2; stroke-opacity:0.1; fill:none\" points=\"\n",
       "  142.714,47.2441 1952.76,47.2441 \n",
       "  \"/>\n",
       "<polyline clip-path=\"url(#clip330)\" style=\"stroke:#000000; stroke-width:4; stroke-opacity:1; fill:none\" points=\"\n",
       "  142.714,1865.17 1952.76,1865.17 \n",
       "  \"/>\n",
       "<polyline clip-path=\"url(#clip330)\" style=\"stroke:#000000; stroke-width:4; stroke-opacity:1; fill:none\" points=\"\n",
       "  142.714,1865.17 142.714,47.2441 \n",
       "  \"/>\n",
       "<polyline clip-path=\"url(#clip330)\" style=\"stroke:#000000; stroke-width:4; stroke-opacity:1; fill:none\" points=\"\n",
       "  159.093,1865.17 159.093,1843.35 \n",
       "  \"/>\n",
       "<polyline clip-path=\"url(#clip330)\" style=\"stroke:#000000; stroke-width:4; stroke-opacity:1; fill:none\" points=\"\n",
       "  594.702,1865.17 594.702,1843.35 \n",
       "  \"/>\n",
       "<polyline clip-path=\"url(#clip330)\" style=\"stroke:#000000; stroke-width:4; stroke-opacity:1; fill:none\" points=\"\n",
       "  1030.31,1865.17 1030.31,1843.35 \n",
       "  \"/>\n",
       "<polyline clip-path=\"url(#clip330)\" style=\"stroke:#000000; stroke-width:4; stroke-opacity:1; fill:none\" points=\"\n",
       "  1465.92,1865.17 1465.92,1843.35 \n",
       "  \"/>\n",
       "<polyline clip-path=\"url(#clip330)\" style=\"stroke:#000000; stroke-width:4; stroke-opacity:1; fill:none\" points=\"\n",
       "  1901.53,1865.17 1901.53,1843.35 \n",
       "  \"/>\n",
       "<polyline clip-path=\"url(#clip330)\" style=\"stroke:#000000; stroke-width:4; stroke-opacity:1; fill:none\" points=\"\n",
       "  142.714,1865.17 164.435,1865.17 \n",
       "  \"/>\n",
       "<polyline clip-path=\"url(#clip330)\" style=\"stroke:#000000; stroke-width:4; stroke-opacity:1; fill:none\" points=\"\n",
       "  142.714,1501.58 164.435,1501.58 \n",
       "  \"/>\n",
       "<polyline clip-path=\"url(#clip330)\" style=\"stroke:#000000; stroke-width:4; stroke-opacity:1; fill:none\" points=\"\n",
       "  142.714,1138 164.435,1138 \n",
       "  \"/>\n",
       "<polyline clip-path=\"url(#clip330)\" style=\"stroke:#000000; stroke-width:4; stroke-opacity:1; fill:none\" points=\"\n",
       "  142.714,774.414 164.435,774.414 \n",
       "  \"/>\n",
       "<polyline clip-path=\"url(#clip330)\" style=\"stroke:#000000; stroke-width:4; stroke-opacity:1; fill:none\" points=\"\n",
       "  142.714,410.829 164.435,410.829 \n",
       "  \"/>\n",
       "<polyline clip-path=\"url(#clip330)\" style=\"stroke:#000000; stroke-width:4; stroke-opacity:1; fill:none\" points=\"\n",
       "  142.714,47.2441 164.435,47.2441 \n",
       "  \"/>\n",
       "<path clip-path=\"url(#clip330)\" d=\"M 0 0 M159.093 1885.16 Q155.482 1885.16 153.653 1888.72 Q151.848 1892.27 151.848 1899.39 Q151.848 1906.5 153.653 1910.07 Q155.482 1913.61 159.093 1913.61 Q162.727 1913.61 164.533 1910.07 Q166.361 1906.5 166.361 1899.39 Q166.361 1892.27 164.533 1888.72 Q162.727 1885.16 159.093 1885.16 M159.093 1881.45 Q164.903 1881.45 167.959 1886.06 Q171.037 1890.64 171.037 1899.39 Q171.037 1908.12 167.959 1912.73 Q164.903 1917.31 159.093 1917.31 Q153.283 1917.31 150.204 1912.73 Q147.149 1908.12 147.149 1899.39 Q147.149 1890.64 150.204 1886.06 Q153.283 1881.45 159.093 1881.45 Z\" fill=\"#000000\" fill-rule=\"evenodd\" fill-opacity=\"1\" /><path clip-path=\"url(#clip330)\" d=\"M 0 0 M576.345 1912.7 L592.665 1912.7 L592.665 1916.64 L570.72 1916.64 L570.72 1912.7 Q573.382 1909.95 577.966 1905.32 Q582.572 1900.67 583.753 1899.33 Q585.998 1896.8 586.878 1895.07 Q587.781 1893.31 587.781 1891.62 Q587.781 1888.86 585.836 1887.13 Q583.915 1885.39 580.813 1885.39 Q578.614 1885.39 576.16 1886.15 Q573.73 1886.92 570.952 1888.47 L570.952 1883.75 Q573.776 1882.61 576.23 1882.03 Q578.683 1881.45 580.72 1881.45 Q586.091 1881.45 589.285 1884.14 Q592.48 1886.83 592.48 1891.32 Q592.48 1893.45 591.669 1895.37 Q590.882 1897.26 588.776 1899.86 Q588.197 1900.53 585.095 1903.75 Q581.994 1906.94 576.345 1912.7 Z\" fill=\"#000000\" fill-rule=\"evenodd\" fill-opacity=\"1\" /><path clip-path=\"url(#clip330)\" d=\"M 0 0 M597.78 1882.08 L616.137 1882.08 L616.137 1886.02 L602.063 1886.02 L602.063 1894.49 Q603.081 1894.14 604.1 1893.98 Q605.118 1893.79 606.137 1893.79 Q611.924 1893.79 615.304 1896.96 Q618.683 1900.14 618.683 1905.55 Q618.683 1911.13 615.211 1914.23 Q611.739 1917.31 605.419 1917.31 Q603.243 1917.31 600.975 1916.94 Q598.73 1916.57 596.322 1915.83 L596.322 1911.13 Q598.405 1912.26 600.628 1912.82 Q602.85 1913.38 605.327 1913.38 Q609.331 1913.38 611.669 1911.27 Q614.007 1909.16 614.007 1905.55 Q614.007 1901.94 611.669 1899.83 Q609.331 1897.73 605.327 1897.73 Q603.452 1897.73 601.577 1898.14 Q599.725 1898.56 597.78 1899.44 L597.78 1882.08 Z\" fill=\"#000000\" fill-rule=\"evenodd\" fill-opacity=\"1\" /><path clip-path=\"url(#clip330)\" d=\"M 0 0 M1007.08 1882.08 L1025.44 1882.08 L1025.44 1886.02 L1011.36 1886.02 L1011.36 1894.49 Q1012.38 1894.14 1013.4 1893.98 Q1014.42 1893.79 1015.44 1893.79 Q1021.23 1893.79 1024.6 1896.96 Q1027.98 1900.14 1027.98 1905.55 Q1027.98 1911.13 1024.51 1914.23 Q1021.04 1917.31 1014.72 1917.31 Q1012.54 1917.31 1010.28 1916.94 Q1008.03 1916.57 1005.62 1915.83 L1005.62 1911.13 Q1007.71 1912.26 1009.93 1912.82 Q1012.15 1913.38 1014.63 1913.38 Q1018.63 1913.38 1020.97 1911.27 Q1023.31 1909.16 1023.31 1905.55 Q1023.31 1901.94 1020.97 1899.83 Q1018.63 1897.73 1014.63 1897.73 Q1012.75 1897.73 1010.88 1898.14 Q1009.03 1898.56 1007.08 1899.44 L1007.08 1882.08 Z\" fill=\"#000000\" fill-rule=\"evenodd\" fill-opacity=\"1\" /><path clip-path=\"url(#clip330)\" d=\"M 0 0 M1043.05 1885.16 Q1039.44 1885.16 1037.61 1888.72 Q1035.81 1892.27 1035.81 1899.39 Q1035.81 1906.5 1037.61 1910.07 Q1039.44 1913.61 1043.05 1913.61 Q1046.69 1913.61 1048.49 1910.07 Q1050.32 1906.5 1050.32 1899.39 Q1050.32 1892.27 1048.49 1888.72 Q1046.69 1885.16 1043.05 1885.16 M1043.05 1881.45 Q1048.86 1881.45 1051.92 1886.06 Q1055 1890.64 1055 1899.39 Q1055 1908.12 1051.92 1912.73 Q1048.86 1917.31 1043.05 1917.31 Q1037.24 1917.31 1034.16 1912.73 Q1031.11 1908.12 1031.11 1899.39 Q1031.11 1890.64 1034.16 1886.06 Q1037.24 1881.45 1043.05 1881.45 Z\" fill=\"#000000\" fill-rule=\"evenodd\" fill-opacity=\"1\" /><path clip-path=\"url(#clip330)\" d=\"M 0 0 M1441.8 1882.08 L1464.02 1882.08 L1464.02 1884.07 L1451.48 1916.64 L1446.59 1916.64 L1458.4 1886.02 L1441.8 1886.02 L1441.8 1882.08 Z\" fill=\"#000000\" fill-rule=\"evenodd\" fill-opacity=\"1\" /><path clip-path=\"url(#clip330)\" d=\"M 0 0 M1469.14 1882.08 L1487.49 1882.08 L1487.49 1886.02 L1473.42 1886.02 L1473.42 1894.49 Q1474.44 1894.14 1475.46 1893.98 Q1476.47 1893.79 1477.49 1893.79 Q1483.28 1893.79 1486.66 1896.96 Q1490.04 1900.14 1490.04 1905.55 Q1490.04 1911.13 1486.57 1914.23 Q1483.1 1917.31 1476.78 1917.31 Q1474.6 1917.31 1472.33 1916.94 Q1470.09 1916.57 1467.68 1915.83 L1467.68 1911.13 Q1469.76 1912.26 1471.98 1912.82 Q1474.21 1913.38 1476.68 1913.38 Q1480.69 1913.38 1483.03 1911.27 Q1485.36 1909.16 1485.36 1905.55 Q1485.36 1901.94 1483.03 1899.83 Q1480.69 1897.73 1476.68 1897.73 Q1474.81 1897.73 1472.93 1898.14 Q1471.08 1898.56 1469.14 1899.44 L1469.14 1882.08 Z\" fill=\"#000000\" fill-rule=\"evenodd\" fill-opacity=\"1\" /><path clip-path=\"url(#clip330)\" d=\"M 0 0 M1864.9 1912.7 L1872.54 1912.7 L1872.54 1886.34 L1864.23 1888.01 L1864.23 1883.75 L1872.49 1882.08 L1877.17 1882.08 L1877.17 1912.7 L1884.8 1912.7 L1884.8 1916.64 L1864.9 1916.64 L1864.9 1912.7 Z\" fill=\"#000000\" fill-rule=\"evenodd\" fill-opacity=\"1\" /><path clip-path=\"url(#clip330)\" d=\"M 0 0 M1899.87 1885.16 Q1896.26 1885.16 1894.43 1888.72 Q1892.63 1892.27 1892.63 1899.39 Q1892.63 1906.5 1894.43 1910.07 Q1896.26 1913.61 1899.87 1913.61 Q1903.51 1913.61 1905.31 1910.07 Q1907.14 1906.5 1907.14 1899.39 Q1907.14 1892.27 1905.31 1888.72 Q1903.51 1885.16 1899.87 1885.16 M1899.87 1881.45 Q1905.68 1881.45 1908.74 1886.06 Q1911.82 1890.64 1911.82 1899.39 Q1911.82 1908.12 1908.74 1912.73 Q1905.68 1917.31 1899.87 1917.31 Q1894.06 1917.31 1890.98 1912.73 Q1887.93 1908.12 1887.93 1899.39 Q1887.93 1890.64 1890.98 1886.06 Q1894.06 1881.45 1899.87 1881.45 Z\" fill=\"#000000\" fill-rule=\"evenodd\" fill-opacity=\"1\" /><path clip-path=\"url(#clip330)\" d=\"M 0 0 M1926.89 1885.16 Q1923.28 1885.16 1921.45 1888.72 Q1919.64 1892.27 1919.64 1899.39 Q1919.64 1906.5 1921.45 1910.07 Q1923.28 1913.61 1926.89 1913.61 Q1930.52 1913.61 1932.33 1910.07 Q1934.16 1906.5 1934.16 1899.39 Q1934.16 1892.27 1932.33 1888.72 Q1930.52 1885.16 1926.89 1885.16 M1926.89 1881.45 Q1932.7 1881.45 1935.75 1886.06 Q1938.83 1890.64 1938.83 1899.39 Q1938.83 1908.12 1935.75 1912.73 Q1932.7 1917.31 1926.89 1917.31 Q1921.08 1917.31 1918 1912.73 Q1914.94 1908.12 1914.94 1899.39 Q1914.94 1890.64 1918 1886.06 Q1921.08 1881.45 1926.89 1881.45 Z\" fill=\"#000000\" fill-rule=\"evenodd\" fill-opacity=\"1\" /><path clip-path=\"url(#clip330)\" d=\"M 0 0 M71.0245 1878.51 L87.3438 1878.51 L87.3438 1882.45 L65.3995 1882.45 L65.3995 1878.51 Q68.0615 1875.76 72.6449 1871.13 Q77.2513 1866.48 78.4319 1865.13 Q80.6772 1862.61 81.5568 1860.87 Q82.4596 1859.11 82.4596 1857.42 Q82.4596 1854.67 80.5152 1852.93 Q78.5939 1851.2 75.4921 1851.2 Q73.293 1851.2 70.8393 1851.96 Q68.4088 1852.73 65.631 1854.28 L65.631 1849.55 Q68.4551 1848.42 70.9088 1847.84 Q73.3624 1847.26 75.3995 1847.26 Q80.7698 1847.26 83.9642 1849.95 Q87.1587 1852.63 87.1587 1857.12 Q87.1587 1859.25 86.3485 1861.17 Q85.5614 1863.07 83.455 1865.67 Q82.8763 1866.34 79.7744 1869.55 Q76.6726 1872.75 71.0245 1878.51 Z\" fill=\"#000000\" fill-rule=\"evenodd\" fill-opacity=\"1\" /><path clip-path=\"url(#clip330)\" d=\"M 0 0 M92.4133 1876.57 L97.2975 1876.57 L97.2975 1882.45 L92.4133 1882.45 L92.4133 1876.57 Z\" fill=\"#000000\" fill-rule=\"evenodd\" fill-opacity=\"1\" /><path clip-path=\"url(#clip330)\" d=\"M 0 0 M106.395 1878.51 L122.714 1878.51 L122.714 1882.45 L100.77 1882.45 L100.77 1878.51 Q103.432 1875.76 108.015 1871.13 Q112.621 1866.48 113.802 1865.13 Q116.047 1862.61 116.927 1860.87 Q117.83 1859.11 117.83 1857.42 Q117.83 1854.67 115.885 1852.93 Q113.964 1851.2 110.862 1851.2 Q108.663 1851.2 106.209 1851.96 Q103.779 1852.73 101.001 1854.28 L101.001 1849.55 Q103.825 1848.42 106.279 1847.84 Q108.733 1847.26 110.77 1847.26 Q116.14 1847.26 119.334 1849.95 Q122.529 1852.63 122.529 1857.12 Q122.529 1859.25 121.719 1861.17 Q120.932 1863.07 118.825 1865.67 Q118.246 1866.34 115.145 1869.55 Q112.043 1872.75 106.395 1878.51 Z\" fill=\"#000000\" fill-rule=\"evenodd\" fill-opacity=\"1\" /><path clip-path=\"url(#clip330)\" d=\"M 0 0 M68.9412 1514.93 L85.2605 1514.93 L85.2605 1518.86 L63.3162 1518.86 L63.3162 1514.93 Q65.9782 1512.17 70.5615 1507.54 Q75.168 1502.89 76.3485 1501.55 Q78.5939 1499.03 79.4735 1497.29 Q80.3763 1495.53 80.3763 1493.84 Q80.3763 1491.09 78.4319 1489.35 Q76.5106 1487.61 73.4087 1487.61 Q71.2097 1487.61 68.756 1488.38 Q66.3254 1489.14 63.5477 1490.69 L63.5477 1485.97 Q66.3717 1484.84 68.8254 1484.26 Q71.2791 1483.68 73.3161 1483.68 Q78.6865 1483.68 81.8809 1486.36 Q85.0753 1489.05 85.0753 1493.54 Q85.0753 1495.67 84.2652 1497.59 Q83.4781 1499.49 81.3717 1502.08 Q80.793 1502.75 77.6911 1505.97 Q74.5893 1509.16 68.9412 1514.93 Z\" fill=\"#000000\" fill-rule=\"evenodd\" fill-opacity=\"1\" /><path clip-path=\"url(#clip330)\" d=\"M 0 0 M90.3299 1512.98 L95.2142 1512.98 L95.2142 1518.86 L90.3299 1518.86 L90.3299 1512.98 Z\" fill=\"#000000\" fill-rule=\"evenodd\" fill-opacity=\"1\" /><path clip-path=\"url(#clip330)\" d=\"M 0 0 M113.131 1488.38 L101.325 1506.83 L113.131 1506.83 L113.131 1488.38 M111.904 1484.3 L117.783 1484.3 L117.783 1506.83 L122.714 1506.83 L122.714 1510.72 L117.783 1510.72 L117.783 1518.86 L113.131 1518.86 L113.131 1510.72 L97.529 1510.72 L97.529 1506.2 L111.904 1484.3 Z\" fill=\"#000000\" fill-rule=\"evenodd\" fill-opacity=\"1\" /><path clip-path=\"url(#clip330)\" d=\"M 0 0 M69.2652 1151.34 L85.5846 1151.34 L85.5846 1155.28 L63.6403 1155.28 L63.6403 1151.34 Q66.3023 1148.59 70.8856 1143.96 Q75.4921 1139.31 76.6726 1137.96 Q78.918 1135.44 79.7976 1133.7 Q80.7004 1131.95 80.7004 1130.26 Q80.7004 1127.5 78.7559 1125.76 Q76.8346 1124.03 73.7328 1124.03 Q71.5337 1124.03 69.0801 1124.79 Q66.6495 1125.56 63.8718 1127.11 L63.8718 1122.39 Q66.6958 1121.25 69.1495 1120.67 Q71.6032 1120.09 73.6402 1120.09 Q79.0106 1120.09 82.205 1122.78 Q85.3994 1125.46 85.3994 1129.95 Q85.3994 1132.08 84.5892 1134.01 Q83.8022 1135.9 81.6957 1138.5 Q81.117 1139.17 78.0152 1142.38 Q74.9134 1145.58 69.2652 1151.34 Z\" fill=\"#000000\" fill-rule=\"evenodd\" fill-opacity=\"1\" /><path clip-path=\"url(#clip330)\" d=\"M 0 0 M90.654 1149.4 L95.5382 1149.4 L95.5382 1155.28 L90.654 1155.28 L90.654 1149.4 Z\" fill=\"#000000\" fill-rule=\"evenodd\" fill-opacity=\"1\" /><path clip-path=\"url(#clip330)\" d=\"M 0 0 M111.186 1136.13 Q108.038 1136.13 106.186 1138.29 Q104.358 1140.44 104.358 1144.19 Q104.358 1147.92 106.186 1150.09 Q108.038 1152.25 111.186 1152.25 Q114.334 1152.25 116.163 1150.09 Q118.015 1147.92 118.015 1144.19 Q118.015 1140.44 116.163 1138.29 Q114.334 1136.13 111.186 1136.13 M120.469 1121.48 L120.469 1125.74 Q118.709 1124.91 116.904 1124.47 Q115.121 1124.03 113.362 1124.03 Q108.733 1124.03 106.279 1127.15 Q103.848 1130.28 103.501 1136.6 Q104.867 1134.58 106.927 1133.52 Q108.987 1132.43 111.464 1132.43 Q116.672 1132.43 119.682 1135.6 Q122.714 1138.75 122.714 1144.19 Q122.714 1149.51 119.566 1152.73 Q116.418 1155.95 111.186 1155.95 Q105.191 1155.95 102.02 1151.37 Q98.8484 1146.76 98.8484 1138.03 Q98.8484 1129.84 102.737 1124.98 Q106.626 1120.09 113.177 1120.09 Q114.936 1120.09 116.719 1120.44 Q118.524 1120.79 120.469 1121.48 Z\" fill=\"#000000\" fill-rule=\"evenodd\" fill-opacity=\"1\" /><path clip-path=\"url(#clip330)\" d=\"M 0 0 M69.5199 787.758 L85.8392 787.758 L85.8392 791.694 L63.8949 791.694 L63.8949 787.758 Q66.5569 785.004 71.1402 780.374 Q75.7467 775.721 76.9272 774.379 Q79.1726 771.856 80.0522 770.12 Q80.955 768.36 80.955 766.671 Q80.955 763.916 79.0106 762.18 Q77.0893 760.444 73.9874 760.444 Q71.7884 760.444 69.3347 761.208 Q66.9041 761.972 64.1264 763.522 L64.1264 758.8 Q66.9504 757.666 69.4041 757.087 Q71.8578 756.509 73.8948 756.509 Q79.2652 756.509 82.4596 759.194 Q85.654 761.879 85.654 766.37 Q85.654 768.499 84.8439 770.421 Q84.0568 772.319 81.9504 774.911 Q81.3717 775.583 78.2698 778.8 Q75.168 781.995 69.5199 787.758 Z\" fill=\"#000000\" fill-rule=\"evenodd\" fill-opacity=\"1\" /><path clip-path=\"url(#clip330)\" d=\"M 0 0 M90.9086 785.814 L95.7929 785.814 L95.7929 791.694 L90.9086 791.694 L90.9086 785.814 Z\" fill=\"#000000\" fill-rule=\"evenodd\" fill-opacity=\"1\" /><path clip-path=\"url(#clip330)\" d=\"M 0 0 M110.862 775.282 Q107.529 775.282 105.608 777.064 Q103.71 778.846 103.71 781.971 Q103.71 785.096 105.608 786.879 Q107.529 788.661 110.862 788.661 Q114.196 788.661 116.117 786.879 Q118.038 785.073 118.038 781.971 Q118.038 778.846 116.117 777.064 Q114.219 775.282 110.862 775.282 M106.186 773.291 Q103.177 772.55 101.487 770.49 Q99.8206 768.43 99.8206 765.467 Q99.8206 761.323 102.76 758.916 Q105.723 756.509 110.862 756.509 Q116.024 756.509 118.964 758.916 Q121.904 761.323 121.904 765.467 Q121.904 768.43 120.214 770.49 Q118.547 772.55 115.561 773.291 Q118.941 774.078 120.816 776.37 Q122.714 778.661 122.714 781.971 Q122.714 786.995 119.635 789.68 Q116.58 792.365 110.862 792.365 Q105.145 792.365 102.066 789.68 Q99.0105 786.995 99.0105 781.971 Q99.0105 778.661 100.909 776.37 Q102.807 774.078 106.186 773.291 M104.473 765.907 Q104.473 768.592 106.14 770.096 Q107.83 771.601 110.862 771.601 Q113.871 771.601 115.561 770.096 Q117.274 768.592 117.274 765.907 Q117.274 763.222 115.561 761.717 Q113.871 760.212 110.862 760.212 Q107.83 760.212 106.14 761.717 Q104.473 763.222 104.473 765.907 Z\" fill=\"#000000\" fill-rule=\"evenodd\" fill-opacity=\"1\" /><path clip-path=\"url(#clip330)\" d=\"M 0 0 M78.617 409.475 Q81.9735 410.192 83.8485 412.461 Q85.7466 414.729 85.7466 418.063 Q85.7466 423.178 82.2281 425.979 Q78.7096 428.78 72.2282 428.78 Q70.0523 428.78 67.7375 428.34 Q65.4458 427.924 62.9921 427.067 L62.9921 422.553 Q64.9366 423.688 67.2514 424.266 Q69.5662 424.845 72.0893 424.845 Q76.4874 424.845 78.7791 423.109 Q81.0939 421.373 81.0939 418.063 Q81.0939 415.007 78.9411 413.294 Q76.8115 411.558 72.9921 411.558 L68.9643 411.558 L68.9643 407.715 L73.1773 407.715 Q76.6263 407.715 78.455 406.35 Q80.2837 404.961 80.2837 402.368 Q80.2837 399.706 78.3856 398.294 Q76.5106 396.859 72.9921 396.859 Q71.0708 396.859 68.8717 397.276 Q66.6727 397.692 64.0338 398.572 L64.0338 394.405 Q66.6958 393.665 69.0106 393.294 Q71.3486 392.924 73.4087 392.924 Q78.7328 392.924 81.8346 395.354 Q84.9365 397.762 84.9365 401.882 Q84.9365 404.752 83.2929 406.743 Q81.6494 408.711 78.617 409.475 Z\" fill=\"#000000\" fill-rule=\"evenodd\" fill-opacity=\"1\" /><path clip-path=\"url(#clip330)\" d=\"M 0 0 M90.8161 422.229 L95.7003 422.229 L95.7003 428.109 L90.8161 428.109 L90.8161 422.229 Z\" fill=\"#000000\" fill-rule=\"evenodd\" fill-opacity=\"1\" /><path clip-path=\"url(#clip330)\" d=\"M 0 0 M110.77 396.628 Q107.159 396.628 105.33 400.192 Q103.524 403.734 103.524 410.864 Q103.524 417.97 105.33 421.535 Q107.159 425.076 110.77 425.076 Q114.404 425.076 116.209 421.535 Q118.038 417.97 118.038 410.864 Q118.038 403.734 116.209 400.192 Q114.404 396.628 110.77 396.628 M110.77 392.924 Q116.58 392.924 119.635 397.53 Q122.714 402.114 122.714 410.864 Q122.714 419.59 119.635 424.197 Q116.58 428.78 110.77 428.78 Q104.959 428.78 101.881 424.197 Q98.8253 419.59 98.8253 410.864 Q98.8253 402.114 101.881 397.53 Q104.959 392.924 110.77 392.924 Z\" fill=\"#000000\" fill-rule=\"evenodd\" fill-opacity=\"1\" /><path clip-path=\"url(#clip330)\" d=\"M 0 0 M80.2143 45.8899 Q83.5707 46.6075 85.4457 48.876 Q87.3438 51.1445 87.3438 54.4779 Q87.3438 59.5936 83.8253 62.3945 Q80.3068 65.1954 73.8254 65.1954 Q71.6495 65.1954 69.3347 64.7556 Q67.043 64.3389 64.5893 63.4824 L64.5893 58.9686 Q66.5338 60.1028 68.8486 60.6815 Q71.1634 61.2602 73.6865 61.2602 Q78.0846 61.2602 80.3763 59.5241 Q82.6911 57.788 82.6911 54.4779 Q82.6911 51.4223 80.5383 49.7094 Q78.4087 47.9733 74.5893 47.9733 L70.5615 47.9733 L70.5615 44.1307 L74.7745 44.1307 Q78.2235 44.1307 80.0522 42.765 Q81.8809 41.3761 81.8809 38.7835 Q81.8809 36.1215 79.9828 34.7094 Q78.1078 33.2743 74.5893 33.2743 Q72.668 33.2743 70.4689 33.6909 Q68.2699 34.1076 65.631 34.9872 L65.631 30.8206 Q68.293 30.0798 70.6078 29.7095 Q72.9458 29.3391 75.006 29.3391 Q80.33 29.3391 83.4318 31.7696 Q86.5337 34.177 86.5337 38.2974 Q86.5337 41.1677 84.8902 43.1585 Q83.2466 45.1261 80.2143 45.8899 Z\" fill=\"#000000\" fill-rule=\"evenodd\" fill-opacity=\"1\" /><path clip-path=\"url(#clip330)\" d=\"M 0 0 M92.4133 58.6445 L97.2975 58.6445 L97.2975 64.5241 L92.4133 64.5241 L92.4133 58.6445 Z\" fill=\"#000000\" fill-rule=\"evenodd\" fill-opacity=\"1\" /><path clip-path=\"url(#clip330)\" d=\"M 0 0 M106.395 60.5889 L122.714 60.5889 L122.714 64.5241 L100.77 64.5241 L100.77 60.5889 Q103.432 57.8343 108.015 53.2047 Q112.621 48.552 113.802 47.2094 Q116.047 44.6862 116.927 42.9501 Q117.83 41.1909 117.83 39.5011 Q117.83 36.7465 115.885 35.0104 Q113.964 33.2743 110.862 33.2743 Q108.663 33.2743 106.209 34.0381 Q103.779 34.802 101.001 36.3529 L101.001 31.6308 Q103.825 30.4965 106.279 29.9178 Q108.733 29.3391 110.77 29.3391 Q116.14 29.3391 119.334 32.0243 Q122.529 34.7094 122.529 39.2002 Q122.529 41.3298 121.719 43.2511 Q120.932 45.1492 118.825 47.7418 Q118.246 48.4131 115.145 51.6306 Q112.043 54.8251 106.395 60.5889 Z\" fill=\"#000000\" fill-rule=\"evenodd\" fill-opacity=\"1\" /><polyline clip-path=\"url(#clip332)\" style=\"stroke:#009af9; stroke-width:4; stroke-opacity:1; fill:none\" points=\"\n",
       "  193.942,991.684 228.79,1313.86 246.215,1643.68 333.336,1597.52 507.58,1519.66 594.702,1611.79 1030.31,1613.37 1901.53,1624.91 \n",
       "  \"/>\n",
       "<polyline clip-path=\"url(#clip332)\" style=\"stroke:#e26f46; stroke-width:4; stroke-opacity:1; fill:none\" points=\"\n",
       "  193.942,619.431 228.79,1109.77 246.215,1416.65 333.336,1301.47 507.58,1433.15 594.702,1494.13 1030.31,1470.62 1901.53,1470.69 \n",
       "  \"/>\n",
       "<polyline clip-path=\"url(#clip332)\" style=\"stroke:#3da44d; stroke-width:4; stroke-opacity:1; fill:none\" points=\"\n",
       "  193.942,1331.31 228.79,1167.13 246.215,1163.99 333.336,1340.87 507.58,1373.07 594.702,1390.86 1030.31,1421.45 1901.53,1384.05 \n",
       "  \"/>\n",
       "<polyline clip-path=\"url(#clip332)\" style=\"stroke:#c271d2; stroke-width:4; stroke-opacity:1; fill:none\" points=\"\n",
       "  193.942,1667.42 228.79,1186.83 246.215,1215.16 333.336,1261.36 507.58,1342.67 594.702,1379.34 1030.31,1389.91 1901.53,1404.27 \n",
       "  \"/>\n",
       "<polyline clip-path=\"url(#clip332)\" style=\"stroke:#ac8d18; stroke-width:4; stroke-opacity:1; fill:none\" points=\"\n",
       "  193.942,1388.94 228.79,1133.77 246.215,1341.19 333.336,1362.83 507.58,1384.27 594.702,1351.88 1030.31,1392.83 1901.53,1432.86 \n",
       "  \"/>\n",
       "<polyline clip-path=\"url(#clip332)\" style=\"stroke:#00a9ad; stroke-width:4; stroke-opacity:1; fill:none\" points=\"\n",
       "  193.942,1507.69 228.79,954.958 246.215,1236.1 333.336,1345.87 507.58,1392.92 594.702,1423.68 1030.31,1395.33 1901.53,1416.08 \n",
       "  \"/>\n",
       "<polyline clip-path=\"url(#clip332)\" style=\"stroke:#ed5d92; stroke-width:4; stroke-opacity:1; fill:none\" points=\"\n",
       "  193.942,1718.72 228.79,1363.57 246.215,1344.4 333.336,1277.46 507.58,1290.85 594.702,1327.86 1030.31,1318.37 1901.53,1309.85 \n",
       "  \"/>\n",
       "<polyline clip-path=\"url(#clip332)\" style=\"stroke:#c68125; stroke-width:4; stroke-opacity:1; fill:none\" points=\"\n",
       "  193.942,1759.65 228.79,1527.75 246.215,1578.18 333.336,1746.33 507.58,1783.61 594.702,1765.37 1030.31,1760.56 1901.53,1790.65 \n",
       "  \"/>\n",
       "<polyline clip-path=\"url(#clip332)\" style=\"stroke:#00a98d; stroke-width:4; stroke-opacity:1; fill:none\" points=\"\n",
       "  193.942,1694.16 228.79,1894.2 246.215,1459.32 333.336,1694.88 507.58,1743.5 594.702,1708.1 1030.31,1761.98 1901.53,1740.97 \n",
       "  \"/>\n",
       "<path clip-path=\"url(#clip330)\" d=\"\n",
       "M1645.16 711.564 L1892.76 711.564 L1892.76 106.764 L1645.16 106.764  Z\n",
       "  \" fill=\"#ffffff\" fill-rule=\"evenodd\" fill-opacity=\"1\"/>\n",
       "<polyline clip-path=\"url(#clip330)\" style=\"stroke:#000000; stroke-width:4; stroke-opacity:1; fill:none\" points=\"\n",
       "  1645.16,711.564 1892.76,711.564 1892.76,106.764 1645.16,106.764 1645.16,711.564 \n",
       "  \"/>\n",
       "<polyline clip-path=\"url(#clip330)\" style=\"stroke:#009af9; stroke-width:4; stroke-opacity:1; fill:none\" points=\"\n",
       "  1665.16,167.244 1785.16,167.244 \n",
       "  \"/>\n",
       "<path clip-path=\"url(#clip330)\" d=\"M 0 0 M1810.79 180.589 L1827.11 180.589 L1827.11 184.524 L1805.16 184.524 L1805.16 180.589 Q1807.83 177.834 1812.41 173.205 Q1817.02 168.552 1818.2 167.209 Q1820.44 164.686 1821.32 162.95 Q1822.22 161.191 1822.22 159.501 Q1822.22 156.746 1820.28 155.01 Q1818.36 153.274 1815.26 153.274 Q1813.06 153.274 1810.6 154.038 Q1808.17 154.802 1805.4 156.353 L1805.4 151.631 Q1808.22 150.496 1810.67 149.918 Q1813.13 149.339 1815.16 149.339 Q1820.53 149.339 1823.73 152.024 Q1826.92 154.709 1826.92 159.2 Q1826.92 161.33 1826.11 163.251 Q1825.33 165.149 1823.22 167.742 Q1822.64 168.413 1819.54 171.631 Q1816.44 174.825 1810.79 180.589 Z\" fill=\"#000000\" fill-rule=\"evenodd\" fill-opacity=\"1\" /><polyline clip-path=\"url(#clip330)\" style=\"stroke:#e26f46; stroke-width:4; stroke-opacity:1; fill:none\" points=\"\n",
       "  1665.16,227.724 1785.16,227.724 \n",
       "  \"/>\n",
       "<path clip-path=\"url(#clip330)\" d=\"M 0 0 M1820.79 226.37 Q1824.14 227.088 1826.02 229.356 Q1827.92 231.625 1827.92 234.958 Q1827.92 240.074 1824.4 242.874 Q1820.88 245.675 1814.4 245.675 Q1812.22 245.675 1809.91 245.236 Q1807.62 244.819 1805.16 243.962 L1805.16 239.449 Q1807.11 240.583 1809.42 241.162 Q1811.74 241.74 1814.26 241.74 Q1818.66 241.74 1820.95 240.004 Q1823.27 238.268 1823.27 234.958 Q1823.27 231.902 1821.11 230.189 Q1818.98 228.453 1815.16 228.453 L1811.14 228.453 L1811.14 224.611 L1815.35 224.611 Q1818.8 224.611 1820.63 223.245 Q1822.46 221.856 1822.46 219.263 Q1822.46 216.601 1820.56 215.189 Q1818.68 213.754 1815.16 213.754 Q1813.24 213.754 1811.04 214.171 Q1808.84 214.588 1806.21 215.467 L1806.21 211.301 Q1808.87 210.56 1811.18 210.189 Q1813.52 209.819 1815.58 209.819 Q1820.9 209.819 1824.01 212.25 Q1827.11 214.657 1827.11 218.777 Q1827.11 221.648 1825.46 223.638 Q1823.82 225.606 1820.79 226.37 Z\" fill=\"#000000\" fill-rule=\"evenodd\" fill-opacity=\"1\" /><polyline clip-path=\"url(#clip330)\" style=\"stroke:#3da44d; stroke-width:4; stroke-opacity:1; fill:none\" points=\"\n",
       "  1665.16,288.204 1785.16,288.204 \n",
       "  \"/>\n",
       "<path clip-path=\"url(#clip330)\" d=\"M 0 0 M1820.77 274.998 L1808.96 293.447 L1820.77 293.447 L1820.77 274.998 M1819.54 270.924 L1825.42 270.924 L1825.42 293.447 L1830.35 293.447 L1830.35 297.336 L1825.42 297.336 L1825.42 305.484 L1820.77 305.484 L1820.77 297.336 L1805.16 297.336 L1805.16 292.822 L1819.54 270.924 Z\" fill=\"#000000\" fill-rule=\"evenodd\" fill-opacity=\"1\" /><polyline clip-path=\"url(#clip330)\" style=\"stroke:#c271d2; stroke-width:4; stroke-opacity:1; fill:none\" points=\"\n",
       "  1665.16,348.684 1785.16,348.684 \n",
       "  \"/>\n",
       "<path clip-path=\"url(#clip330)\" d=\"M 0 0 M1806.62 331.404 L1824.98 331.404 L1824.98 335.339 L1810.9 335.339 L1810.9 343.811 Q1811.92 343.464 1812.94 343.302 Q1813.96 343.117 1814.98 343.117 Q1820.77 343.117 1824.14 346.288 Q1827.52 349.46 1827.52 354.876 Q1827.52 360.455 1824.05 363.557 Q1820.58 366.635 1814.26 366.635 Q1812.08 366.635 1809.82 366.265 Q1807.57 365.895 1805.16 365.154 L1805.16 360.455 Q1807.25 361.589 1809.47 362.145 Q1811.69 362.7 1814.17 362.7 Q1818.17 362.7 1820.51 360.594 Q1822.85 358.487 1822.85 354.876 Q1822.85 351.265 1820.51 349.159 Q1818.17 347.052 1814.17 347.052 Q1812.29 347.052 1810.42 347.469 Q1808.57 347.885 1806.62 348.765 L1806.62 331.404 Z\" fill=\"#000000\" fill-rule=\"evenodd\" fill-opacity=\"1\" /><polyline clip-path=\"url(#clip330)\" style=\"stroke:#ac8d18; stroke-width:4; stroke-opacity:1; fill:none\" points=\"\n",
       "  1665.16,409.164 1785.16,409.164 \n",
       "  \"/>\n",
       "<path clip-path=\"url(#clip330)\" d=\"M 0 0 M1817.5 407.301 Q1814.35 407.301 1812.5 409.453 Q1810.67 411.606 1810.67 415.356 Q1810.67 419.083 1812.5 421.259 Q1814.35 423.412 1817.5 423.412 Q1820.65 423.412 1822.48 421.259 Q1824.33 419.083 1824.33 415.356 Q1824.33 411.606 1822.48 409.453 Q1820.65 407.301 1817.5 407.301 M1826.78 392.648 L1826.78 396.907 Q1825.02 396.074 1823.22 395.634 Q1821.44 395.194 1819.68 395.194 Q1815.05 395.194 1812.59 398.319 Q1810.16 401.444 1809.82 407.764 Q1811.18 405.75 1813.24 404.685 Q1815.3 403.597 1817.78 403.597 Q1822.99 403.597 1826 406.768 Q1829.03 409.916 1829.03 415.356 Q1829.03 420.68 1825.88 423.898 Q1822.73 427.115 1817.5 427.115 Q1811.51 427.115 1808.33 422.532 Q1805.16 417.926 1805.16 409.199 Q1805.16 401.004 1809.05 396.143 Q1812.94 391.259 1819.49 391.259 Q1821.25 391.259 1823.03 391.606 Q1824.84 391.954 1826.78 392.648 Z\" fill=\"#000000\" fill-rule=\"evenodd\" fill-opacity=\"1\" /><polyline clip-path=\"url(#clip330)\" style=\"stroke:#00a9ad; stroke-width:4; stroke-opacity:1; fill:none\" points=\"\n",
       "  1665.16,469.644 1785.16,469.644 \n",
       "  \"/>\n",
       "<path clip-path=\"url(#clip330)\" d=\"M 0 0 M1805.16 452.364 L1827.39 452.364 L1827.39 454.355 L1814.84 486.924 L1809.96 486.924 L1821.76 456.299 L1805.16 456.299 L1805.16 452.364 Z\" fill=\"#000000\" fill-rule=\"evenodd\" fill-opacity=\"1\" /><polyline clip-path=\"url(#clip330)\" style=\"stroke:#ed5d92; stroke-width:4; stroke-opacity:1; fill:none\" points=\"\n",
       "  1665.16,530.124 1785.16,530.124 \n",
       "  \"/>\n",
       "<path clip-path=\"url(#clip330)\" d=\"M 0 0 M1817.02 530.992 Q1813.68 530.992 1811.76 532.775 Q1809.86 534.557 1809.86 537.682 Q1809.86 540.807 1811.76 542.589 Q1813.68 544.372 1817.02 544.372 Q1820.35 544.372 1822.27 542.589 Q1824.19 540.784 1824.19 537.682 Q1824.19 534.557 1822.27 532.775 Q1820.37 530.992 1817.02 530.992 M1812.34 529.001 Q1809.33 528.261 1807.64 526.201 Q1805.97 524.14 1805.97 521.177 Q1805.97 517.034 1808.91 514.626 Q1811.88 512.219 1817.02 512.219 Q1822.18 512.219 1825.12 514.626 Q1828.06 517.034 1828.06 521.177 Q1828.06 524.14 1826.37 526.201 Q1824.7 528.261 1821.71 529.001 Q1825.09 529.788 1826.97 532.08 Q1828.87 534.372 1828.87 537.682 Q1828.87 542.705 1825.79 545.39 Q1822.73 548.075 1817.02 548.075 Q1811.3 548.075 1808.22 545.39 Q1805.16 542.705 1805.16 537.682 Q1805.16 534.372 1807.06 532.08 Q1808.96 529.788 1812.34 529.001 M1810.63 521.617 Q1810.63 524.302 1812.29 525.807 Q1813.98 527.312 1817.02 527.312 Q1820.02 527.312 1821.71 525.807 Q1823.43 524.302 1823.43 521.617 Q1823.43 518.932 1821.71 517.427 Q1820.02 515.923 1817.02 515.923 Q1813.98 515.923 1812.29 517.427 Q1810.63 518.932 1810.63 521.617 Z\" fill=\"#000000\" fill-rule=\"evenodd\" fill-opacity=\"1\" /><polyline clip-path=\"url(#clip330)\" style=\"stroke:#c68125; stroke-width:4; stroke-opacity:1; fill:none\" points=\"\n",
       "  1665.16,590.604 1785.16,590.604 \n",
       "  \"/>\n",
       "<path clip-path=\"url(#clip330)\" d=\"M 0 0 M1807.39 607.167 L1807.39 602.907 Q1809.15 603.741 1810.95 604.18 Q1812.76 604.62 1814.49 604.62 Q1819.12 604.62 1821.55 601.518 Q1824.01 598.393 1824.35 592.051 Q1823.01 594.042 1820.95 595.106 Q1818.89 596.171 1816.39 596.171 Q1811.21 596.171 1808.17 593.046 Q1805.16 589.898 1805.16 584.458 Q1805.16 579.134 1808.31 575.917 Q1811.46 572.699 1816.69 572.699 Q1822.69 572.699 1825.83 577.306 Q1829.01 581.889 1829.01 590.639 Q1829.01 598.81 1825.12 603.694 Q1821.25 608.555 1814.7 608.555 Q1812.94 608.555 1811.14 608.208 Q1809.33 607.861 1807.39 607.167 M1816.69 592.514 Q1819.84 592.514 1821.67 590.361 Q1823.52 588.208 1823.52 584.458 Q1823.52 580.731 1821.67 578.579 Q1819.84 576.403 1816.69 576.403 Q1813.54 576.403 1811.69 578.579 Q1809.86 580.731 1809.86 584.458 Q1809.86 588.208 1811.69 590.361 Q1813.54 592.514 1816.69 592.514 Z\" fill=\"#000000\" fill-rule=\"evenodd\" fill-opacity=\"1\" /><polyline clip-path=\"url(#clip330)\" style=\"stroke:#00a98d; stroke-width:4; stroke-opacity:1; fill:none\" points=\"\n",
       "  1665.16,651.084 1785.16,651.084 \n",
       "  \"/>\n",
       "<path clip-path=\"url(#clip330)\" d=\"M 0 0 M1805.83 664.429 L1813.47 664.429 L1813.47 638.063 L1805.16 639.73 L1805.16 635.471 L1813.43 633.804 L1818.1 633.804 L1818.1 664.429 L1825.74 664.429 L1825.74 668.364 L1805.83 668.364 L1805.83 664.429 Z\" fill=\"#000000\" fill-rule=\"evenodd\" fill-opacity=\"1\" /><path clip-path=\"url(#clip330)\" d=\"M 0 0 M1840.81 636.883 Q1837.2 636.883 1835.37 640.448 Q1833.57 643.989 1833.57 651.119 Q1833.57 658.225 1835.37 661.79 Q1837.2 665.332 1840.81 665.332 Q1844.45 665.332 1846.25 661.79 Q1848.08 658.225 1848.08 651.119 Q1848.08 643.989 1846.25 640.448 Q1844.45 636.883 1840.81 636.883 M1840.81 633.179 Q1846.62 633.179 1849.68 637.786 Q1852.76 642.369 1852.76 651.119 Q1852.76 659.846 1849.68 664.452 Q1846.62 669.035 1840.81 669.035 Q1835 669.035 1831.92 664.452 Q1828.87 659.846 1828.87 651.119 Q1828.87 642.369 1831.92 637.786 Q1835 633.179 1840.81 633.179 Z\" fill=\"#000000\" fill-rule=\"evenodd\" fill-opacity=\"1\" /></svg>\n"
      ]
     },
     "execution_count": 8,
     "metadata": {},
     "output_type": "execute_result"
    }
   ],
   "source": [
    "n = 100\n",
    "p = 5\n",
    "\n",
    "pp = plot(size=(500, 500), ylims=(2.2, 3.2))\n",
    "\n",
    "for j in 2:1:10\n",
    "    X = zeros(n, p + 1)\n",
    "    X[:, 1] = ones(n)\n",
    "    for i in 2:p+1\n",
    "        X[:, i] .= rand(dnorm, n)\n",
    "    end\n",
    "    β = rand(dnorm, p + 1)\n",
    "    β[2:3] .= 0  # python [1, 2] -> julia [2, 3]\n",
    "\n",
    "    U = Float64[]\n",
    "    V = Float64[]\n",
    "    for k in 2:1:n\n",
    "        if n % k == 0\n",
    "            push!(U, k)\n",
    "            push!(V, cv_linear(X, y, k))\n",
    "        end\n",
    "    end\n",
    "    \n",
    "    plot!(pp, U, V, label=\"$j\")\n",
    "end\n",
    "\n",
    "pp"
   ]
  },
  {
   "cell_type": "markdown",
   "metadata": {},
   "source": [
    "# 例41\n",
    "\n",
    "- IRISのknnでCV (略)"
   ]
  },
  {
   "cell_type": "markdown",
   "metadata": {},
   "source": [
    "# 例42 高速なCVと時間比較"
   ]
  },
  {
   "cell_type": "code",
   "execution_count": 9,
   "metadata": {},
   "outputs": [
    {
     "data": {
      "text/plain": [
       "cv_fast (generic function with 1 method)"
      ]
     },
     "execution_count": 9,
     "metadata": {},
     "output_type": "execute_result"
    }
   ],
   "source": [
    "function cv_fast(X, y, K)\n",
    "    n = length(y)\n",
    "    m = ceil(Int, n / K)\n",
    "    H = X * inv(X' * X) * X'\n",
    "    I = diagm(repeat([1], n))\n",
    "    e = (I .- H) .* y\n",
    "    I = diagm(repeat([1], m))\n",
    "    S = 0\n",
    "    for j in 1:K\n",
    "        test = collect(1 + (j - 1) * m:1:j * m)\n",
    "        mat1 = inv(I .- H[test, test]) * e[test]\n",
    "        S += mat1' * mat1\n",
    "    end\n",
    "    S / n\n",
    "end"
   ]
  },
  {
   "cell_type": "code",
   "execution_count": 10,
   "metadata": {},
   "outputs": [
    {
     "name": "stdout",
     "output_type": "stream",
     "text": [
      "0.11265985726455556\n",
      "2.2936714697461476\n"
     ]
    }
   ],
   "source": [
    "v1 = cv_fast(X, y, 10)\n",
    "v2 = cv_linear(X, y, 10)\n",
    "println(v1)\n",
    "println(v2)"
   ]
  },
  {
   "cell_type": "code",
   "execution_count": 11,
   "metadata": {},
   "outputs": [],
   "source": [
    "Ul, Vl = Float64[], Float64[]\n",
    "Uf, Vf = Float64[], Float64[]\n",
    "\n",
    "n = 1000\n",
    "p = 5\n",
    "X = zeros(n, p + 1)\n",
    "X[:, 1] = ones(n)\n",
    "for i in 2:p+1\n",
    "    X[:, i] .= rand(dnorm, n)\n",
    "end\n",
    "β = rand(dnorm, p + 1)\n",
    "β[2:3] .= 0  # python [1, 2] -> julia [2, 3]\n",
    "y = X * β .+ rand(dnorm, n)\n",
    "\n",
    "for k in 2:1:n\n",
    "    if n % k == 0\n",
    "        t1 = time()\n",
    "        push!(Ul, k)\n",
    "        cv_linear(X, y, k)\n",
    "        t2 = time() - t1\n",
    "        push!(Vl, t2)\n",
    "        \n",
    "        t1 = time()\n",
    "        push!(Uf, k)\n",
    "        cv_fast(X, y, k)\n",
    "        t2 = time() - t1\n",
    "        push!(Vf, t2)\n",
    "    end\n",
    "end"
   ]
  },
  {
   "cell_type": "code",
   "execution_count": 12,
   "metadata": {},
   "outputs": [
    {
     "data": {
      "image/svg+xml": [
       "<?xml version=\"1.0\" encoding=\"utf-8\"?>\n",
       "<svg xmlns=\"http://www.w3.org/2000/svg\" xmlns:xlink=\"http://www.w3.org/1999/xlink\" width=\"300\" height=\"300\" viewBox=\"0 0 1200 1200\">\n",
       "<defs>\n",
       "  <clipPath id=\"clip370\">\n",
       "    <rect x=\"0\" y=\"0\" width=\"1200\" height=\"1200\"/>\n",
       "  </clipPath>\n",
       "</defs>\n",
       "<path clip-path=\"url(#clip370)\" d=\"\n",
       "M0 1200 L1200 1200 L1200 0 L0 0  Z\n",
       "  \" fill=\"#ffffff\" fill-rule=\"evenodd\" fill-opacity=\"1\"/>\n",
       "<defs>\n",
       "  <clipPath id=\"clip371\">\n",
       "    <rect x=\"240\" y=\"120\" width=\"841\" height=\"841\"/>\n",
       "  </clipPath>\n",
       "</defs>\n",
       "<path clip-path=\"url(#clip370)\" d=\"\n",
       "M136.334 1073.17 L1152.76 1073.17 L1152.76 47.2441 L136.334 47.2441  Z\n",
       "  \" fill=\"#ffffff\" fill-rule=\"evenodd\" fill-opacity=\"1\"/>\n",
       "<defs>\n",
       "  <clipPath id=\"clip372\">\n",
       "    <rect x=\"136\" y=\"47\" width=\"1017\" height=\"1027\"/>\n",
       "  </clipPath>\n",
       "</defs>\n",
       "<polyline clip-path=\"url(#clip372)\" style=\"stroke:#000000; stroke-width:2; stroke-opacity:0.1; fill:none\" points=\"\n",
       "  163.179,1073.17 163.179,47.2441 \n",
       "  \"/>\n",
       "<polyline clip-path=\"url(#clip372)\" style=\"stroke:#000000; stroke-width:2; stroke-opacity:0.1; fill:none\" points=\"\n",
       "  403.382,1073.17 403.382,47.2441 \n",
       "  \"/>\n",
       "<polyline clip-path=\"url(#clip372)\" style=\"stroke:#000000; stroke-width:2; stroke-opacity:0.1; fill:none\" points=\"\n",
       "  643.584,1073.17 643.584,47.2441 \n",
       "  \"/>\n",
       "<polyline clip-path=\"url(#clip372)\" style=\"stroke:#000000; stroke-width:2; stroke-opacity:0.1; fill:none\" points=\"\n",
       "  883.787,1073.17 883.787,47.2441 \n",
       "  \"/>\n",
       "<polyline clip-path=\"url(#clip372)\" style=\"stroke:#000000; stroke-width:2; stroke-opacity:0.1; fill:none\" points=\"\n",
       "  1123.99,1073.17 1123.99,47.2441 \n",
       "  \"/>\n",
       "<polyline clip-path=\"url(#clip372)\" style=\"stroke:#000000; stroke-width:2; stroke-opacity:0.1; fill:none\" points=\"\n",
       "  136.334,1045.27 1152.76,1045.27 \n",
       "  \"/>\n",
       "<polyline clip-path=\"url(#clip372)\" style=\"stroke:#000000; stroke-width:2; stroke-opacity:0.1; fill:none\" points=\"\n",
       "  136.334,823.957 1152.76,823.957 \n",
       "  \"/>\n",
       "<polyline clip-path=\"url(#clip372)\" style=\"stroke:#000000; stroke-width:2; stroke-opacity:0.1; fill:none\" points=\"\n",
       "  136.334,602.641 1152.76,602.641 \n",
       "  \"/>\n",
       "<polyline clip-path=\"url(#clip372)\" style=\"stroke:#000000; stroke-width:2; stroke-opacity:0.1; fill:none\" points=\"\n",
       "  136.334,381.326 1152.76,381.326 \n",
       "  \"/>\n",
       "<polyline clip-path=\"url(#clip372)\" style=\"stroke:#000000; stroke-width:2; stroke-opacity:0.1; fill:none\" points=\"\n",
       "  136.334,160.01 1152.76,160.01 \n",
       "  \"/>\n",
       "<polyline clip-path=\"url(#clip370)\" style=\"stroke:#000000; stroke-width:4; stroke-opacity:1; fill:none\" points=\"\n",
       "  136.334,1073.17 1152.76,1073.17 \n",
       "  \"/>\n",
       "<polyline clip-path=\"url(#clip370)\" style=\"stroke:#000000; stroke-width:4; stroke-opacity:1; fill:none\" points=\"\n",
       "  136.334,1073.17 136.334,47.2441 \n",
       "  \"/>\n",
       "<polyline clip-path=\"url(#clip370)\" style=\"stroke:#000000; stroke-width:4; stroke-opacity:1; fill:none\" points=\"\n",
       "  163.179,1073.17 163.179,1060.86 \n",
       "  \"/>\n",
       "<polyline clip-path=\"url(#clip370)\" style=\"stroke:#000000; stroke-width:4; stroke-opacity:1; fill:none\" points=\"\n",
       "  403.382,1073.17 403.382,1060.86 \n",
       "  \"/>\n",
       "<polyline clip-path=\"url(#clip370)\" style=\"stroke:#000000; stroke-width:4; stroke-opacity:1; fill:none\" points=\"\n",
       "  643.584,1073.17 643.584,1060.86 \n",
       "  \"/>\n",
       "<polyline clip-path=\"url(#clip370)\" style=\"stroke:#000000; stroke-width:4; stroke-opacity:1; fill:none\" points=\"\n",
       "  883.787,1073.17 883.787,1060.86 \n",
       "  \"/>\n",
       "<polyline clip-path=\"url(#clip370)\" style=\"stroke:#000000; stroke-width:4; stroke-opacity:1; fill:none\" points=\"\n",
       "  1123.99,1073.17 1123.99,1060.86 \n",
       "  \"/>\n",
       "<polyline clip-path=\"url(#clip370)\" style=\"stroke:#000000; stroke-width:4; stroke-opacity:1; fill:none\" points=\"\n",
       "  136.334,1045.27 148.531,1045.27 \n",
       "  \"/>\n",
       "<polyline clip-path=\"url(#clip370)\" style=\"stroke:#000000; stroke-width:4; stroke-opacity:1; fill:none\" points=\"\n",
       "  136.334,823.957 148.531,823.957 \n",
       "  \"/>\n",
       "<polyline clip-path=\"url(#clip370)\" style=\"stroke:#000000; stroke-width:4; stroke-opacity:1; fill:none\" points=\"\n",
       "  136.334,602.641 148.531,602.641 \n",
       "  \"/>\n",
       "<polyline clip-path=\"url(#clip370)\" style=\"stroke:#000000; stroke-width:4; stroke-opacity:1; fill:none\" points=\"\n",
       "  136.334,381.326 148.531,381.326 \n",
       "  \"/>\n",
       "<polyline clip-path=\"url(#clip370)\" style=\"stroke:#000000; stroke-width:4; stroke-opacity:1; fill:none\" points=\"\n",
       "  136.334,160.01 148.531,160.01 \n",
       "  \"/>\n",
       "<path clip-path=\"url(#clip370)\" d=\"M 0 0 M163.179 1089.16 Q159.568 1089.16 157.74 1092.72 Q155.934 1096.27 155.934 1103.39 Q155.934 1110.5 157.74 1114.07 Q159.568 1117.61 163.179 1117.61 Q166.814 1117.61 168.619 1114.07 Q170.448 1110.5 170.448 1103.39 Q170.448 1096.27 168.619 1092.72 Q166.814 1089.16 163.179 1089.16 M163.179 1085.45 Q168.99 1085.45 172.045 1090.06 Q175.124 1094.64 175.124 1103.39 Q175.124 1112.12 172.045 1116.73 Q168.99 1121.31 163.179 1121.31 Q157.369 1121.31 154.291 1116.73 Q151.235 1112.12 151.235 1103.39 Q151.235 1094.64 154.291 1090.06 Q157.369 1085.45 163.179 1085.45 Z\" fill=\"#000000\" fill-rule=\"evenodd\" fill-opacity=\"1\" /><path clip-path=\"url(#clip370)\" d=\"M 0 0 M371.519 1116.7 L387.838 1116.7 L387.838 1120.64 L365.894 1120.64 L365.894 1116.7 Q368.556 1113.95 373.139 1109.32 Q377.745 1104.67 378.926 1103.33 Q381.171 1100.8 382.051 1099.07 Q382.954 1097.31 382.954 1095.62 Q382.954 1092.86 381.009 1091.13 Q379.088 1089.39 375.986 1089.39 Q373.787 1089.39 371.333 1090.15 Q368.903 1090.92 366.125 1092.47 L366.125 1087.75 Q368.949 1086.61 371.403 1086.03 Q373.857 1085.45 375.894 1085.45 Q381.264 1085.45 384.458 1088.14 Q387.653 1090.83 387.653 1095.32 Q387.653 1097.45 386.843 1099.37 Q386.056 1101.26 383.949 1103.86 Q383.37 1104.53 380.269 1107.75 Q377.167 1110.94 371.519 1116.7 Z\" fill=\"#000000\" fill-rule=\"evenodd\" fill-opacity=\"1\" /><path clip-path=\"url(#clip370)\" d=\"M 0 0 M392.954 1086.08 L411.31 1086.08 L411.31 1090.02 L397.236 1090.02 L397.236 1098.49 Q398.255 1098.14 399.273 1097.98 Q400.292 1097.79 401.31 1097.79 Q407.097 1097.79 410.477 1100.96 Q413.856 1104.14 413.856 1109.55 Q413.856 1115.13 410.384 1118.23 Q406.912 1121.31 400.593 1121.31 Q398.417 1121.31 396.148 1120.94 Q393.903 1120.57 391.495 1119.83 L391.495 1115.13 Q393.579 1116.26 395.801 1116.82 Q398.023 1117.38 400.5 1117.38 Q404.505 1117.38 406.843 1115.27 Q409.18 1113.16 409.18 1109.55 Q409.18 1105.94 406.843 1103.83 Q404.505 1101.73 400.5 1101.73 Q398.625 1101.73 396.75 1102.14 Q394.898 1102.56 392.954 1103.44 L392.954 1086.08 Z\" fill=\"#000000\" fill-rule=\"evenodd\" fill-opacity=\"1\" /><path clip-path=\"url(#clip370)\" d=\"M 0 0 M428.926 1089.16 Q425.315 1089.16 423.486 1092.72 Q421.68 1096.27 421.68 1103.39 Q421.68 1110.5 423.486 1114.07 Q425.315 1117.61 428.926 1117.61 Q432.56 1117.61 434.366 1114.07 Q436.194 1110.5 436.194 1103.39 Q436.194 1096.27 434.366 1092.72 Q432.56 1089.16 428.926 1089.16 M428.926 1085.45 Q434.736 1085.45 437.791 1090.06 Q440.87 1094.64 440.87 1103.39 Q440.87 1112.12 437.791 1116.73 Q434.736 1121.31 428.926 1121.31 Q423.116 1121.31 420.037 1116.73 Q416.981 1112.12 416.981 1103.39 Q416.981 1094.64 420.037 1090.06 Q423.116 1085.45 428.926 1085.45 Z\" fill=\"#000000\" fill-rule=\"evenodd\" fill-opacity=\"1\" /><path clip-path=\"url(#clip370)\" d=\"M 0 0 M606.848 1086.08 L625.205 1086.08 L625.205 1090.02 L611.131 1090.02 L611.131 1098.49 Q612.149 1098.14 613.168 1097.98 Q614.186 1097.79 615.205 1097.79 Q620.992 1097.79 624.371 1100.96 Q627.751 1104.14 627.751 1109.55 Q627.751 1115.13 624.279 1118.23 Q620.807 1121.31 614.487 1121.31 Q612.311 1121.31 610.043 1120.94 Q607.797 1120.57 605.39 1119.83 L605.39 1115.13 Q607.473 1116.26 609.696 1116.82 Q611.918 1117.38 614.395 1117.38 Q618.399 1117.38 620.737 1115.27 Q623.075 1113.16 623.075 1109.55 Q623.075 1105.94 620.737 1103.83 Q618.399 1101.73 614.395 1101.73 Q612.52 1101.73 610.645 1102.14 Q608.793 1102.56 606.848 1103.44 L606.848 1086.08 Z\" fill=\"#000000\" fill-rule=\"evenodd\" fill-opacity=\"1\" /><path clip-path=\"url(#clip370)\" d=\"M 0 0 M642.82 1089.16 Q639.209 1089.16 637.381 1092.72 Q635.575 1096.27 635.575 1103.39 Q635.575 1110.5 637.381 1114.07 Q639.209 1117.61 642.82 1117.61 Q646.455 1117.61 648.26 1114.07 Q650.089 1110.5 650.089 1103.39 Q650.089 1096.27 648.26 1092.72 Q646.455 1089.16 642.82 1089.16 M642.82 1085.45 Q648.631 1085.45 651.686 1090.06 Q654.765 1094.64 654.765 1103.39 Q654.765 1112.12 651.686 1116.73 Q648.631 1121.31 642.82 1121.31 Q637.01 1121.31 633.932 1116.73 Q630.876 1112.12 630.876 1103.39 Q630.876 1094.64 633.932 1090.06 Q637.01 1085.45 642.82 1085.45 Z\" fill=\"#000000\" fill-rule=\"evenodd\" fill-opacity=\"1\" /><path clip-path=\"url(#clip370)\" d=\"M 0 0 M669.834 1089.16 Q666.223 1089.16 664.394 1092.72 Q662.589 1096.27 662.589 1103.39 Q662.589 1110.5 664.394 1114.07 Q666.223 1117.61 669.834 1117.61 Q673.468 1117.61 675.274 1114.07 Q677.103 1110.5 677.103 1103.39 Q677.103 1096.27 675.274 1092.72 Q673.468 1089.16 669.834 1089.16 M669.834 1085.45 Q675.644 1085.45 678.7 1090.06 Q681.779 1094.64 681.779 1103.39 Q681.779 1112.12 678.7 1116.73 Q675.644 1121.31 669.834 1121.31 Q664.024 1121.31 660.945 1116.73 Q657.89 1112.12 657.89 1103.39 Q657.89 1094.64 660.945 1090.06 Q664.024 1085.45 669.834 1085.45 Z\" fill=\"#000000\" fill-rule=\"evenodd\" fill-opacity=\"1\" /><path clip-path=\"url(#clip370)\" d=\"M 0 0 M846.16 1086.08 L868.382 1086.08 L868.382 1088.07 L855.836 1120.64 L850.951 1120.64 L862.757 1090.02 L846.16 1090.02 L846.16 1086.08 Z\" fill=\"#000000\" fill-rule=\"evenodd\" fill-opacity=\"1\" /><path clip-path=\"url(#clip370)\" d=\"M 0 0 M873.498 1086.08 L891.854 1086.08 L891.854 1090.02 L877.78 1090.02 L877.78 1098.49 Q878.798 1098.14 879.817 1097.98 Q880.835 1097.79 881.854 1097.79 Q887.641 1097.79 891.021 1100.96 Q894.4 1104.14 894.4 1109.55 Q894.4 1115.13 890.928 1118.23 Q887.456 1121.31 881.136 1121.31 Q878.96 1121.31 876.692 1120.94 Q874.447 1120.57 872.039 1119.83 L872.039 1115.13 Q874.122 1116.26 876.345 1116.82 Q878.567 1117.38 881.044 1117.38 Q885.048 1117.38 887.386 1115.27 Q889.724 1113.16 889.724 1109.55 Q889.724 1105.94 887.386 1103.83 Q885.048 1101.73 881.044 1101.73 Q879.169 1101.73 877.294 1102.14 Q875.442 1102.56 873.498 1103.44 L873.498 1086.08 Z\" fill=\"#000000\" fill-rule=\"evenodd\" fill-opacity=\"1\" /><path clip-path=\"url(#clip370)\" d=\"M 0 0 M909.47 1089.16 Q905.858 1089.16 904.03 1092.72 Q902.224 1096.27 902.224 1103.39 Q902.224 1110.5 904.03 1114.07 Q905.858 1117.61 909.47 1117.61 Q913.104 1117.61 914.909 1114.07 Q916.738 1110.5 916.738 1103.39 Q916.738 1096.27 914.909 1092.72 Q913.104 1089.16 909.47 1089.16 M909.47 1085.45 Q915.28 1085.45 918.335 1090.06 Q921.414 1094.64 921.414 1103.39 Q921.414 1112.12 918.335 1116.73 Q915.28 1121.31 909.47 1121.31 Q903.659 1121.31 900.581 1116.73 Q897.525 1112.12 897.525 1103.39 Q897.525 1094.64 900.581 1090.06 Q903.659 1085.45 909.47 1085.45 Z\" fill=\"#000000\" fill-rule=\"evenodd\" fill-opacity=\"1\" /><path clip-path=\"url(#clip370)\" d=\"M 0 0 M1073.85 1116.7 L1081.49 1116.7 L1081.49 1090.34 L1073.18 1092.01 L1073.18 1087.75 L1081.44 1086.08 L1086.12 1086.08 L1086.12 1116.7 L1093.76 1116.7 L1093.76 1120.64 L1073.85 1120.64 L1073.85 1116.7 Z\" fill=\"#000000\" fill-rule=\"evenodd\" fill-opacity=\"1\" /><path clip-path=\"url(#clip370)\" d=\"M 0 0 M1108.83 1089.16 Q1105.22 1089.16 1103.39 1092.72 Q1101.58 1096.27 1101.58 1103.39 Q1101.58 1110.5 1103.39 1114.07 Q1105.22 1117.61 1108.83 1117.61 Q1112.46 1117.61 1114.27 1114.07 Q1116.1 1110.5 1116.1 1103.39 Q1116.1 1096.27 1114.27 1092.72 Q1112.46 1089.16 1108.83 1089.16 M1108.83 1085.45 Q1114.64 1085.45 1117.69 1090.06 Q1120.77 1094.64 1120.77 1103.39 Q1120.77 1112.12 1117.69 1116.73 Q1114.64 1121.31 1108.83 1121.31 Q1103.02 1121.31 1099.94 1116.73 Q1096.88 1112.12 1096.88 1103.39 Q1096.88 1094.64 1099.94 1090.06 Q1103.02 1085.45 1108.83 1085.45 Z\" fill=\"#000000\" fill-rule=\"evenodd\" fill-opacity=\"1\" /><path clip-path=\"url(#clip370)\" d=\"M 0 0 M1135.84 1089.16 Q1132.23 1089.16 1130.4 1092.72 Q1128.6 1096.27 1128.6 1103.39 Q1128.6 1110.5 1130.4 1114.07 Q1132.23 1117.61 1135.84 1117.61 Q1139.48 1117.61 1141.28 1114.07 Q1143.11 1110.5 1143.11 1103.39 Q1143.11 1096.27 1141.28 1092.72 Q1139.48 1089.16 1135.84 1089.16 M1135.84 1085.45 Q1141.65 1085.45 1144.71 1090.06 Q1147.79 1094.64 1147.79 1103.39 Q1147.79 1112.12 1144.71 1116.73 Q1141.65 1121.31 1135.84 1121.31 Q1130.03 1121.31 1126.95 1116.73 Q1123.9 1112.12 1123.9 1103.39 Q1123.9 1094.64 1126.95 1090.06 Q1130.03 1085.45 1135.84 1085.45 Z\" fill=\"#000000\" fill-rule=\"evenodd\" fill-opacity=\"1\" /><path clip-path=\"url(#clip370)\" d=\"M 0 0 M1162.85 1089.16 Q1159.24 1089.16 1157.42 1092.72 Q1155.61 1096.27 1155.61 1103.39 Q1155.61 1110.5 1157.42 1114.07 Q1159.24 1117.61 1162.85 1117.61 Q1166.49 1117.61 1168.29 1114.07 Q1170.12 1110.5 1170.12 1103.39 Q1170.12 1096.27 1168.29 1092.72 Q1166.49 1089.16 1162.85 1089.16 M1162.85 1085.45 Q1168.66 1085.45 1171.72 1090.06 Q1174.8 1094.64 1174.8 1103.39 Q1174.8 1112.12 1171.72 1116.73 Q1168.66 1121.31 1162.85 1121.31 Q1157.04 1121.31 1153.97 1116.73 Q1150.91 1112.12 1150.91 1103.39 Q1150.91 1094.64 1153.97 1090.06 Q1157.04 1085.45 1162.85 1085.45 Z\" fill=\"#000000\" fill-rule=\"evenodd\" fill-opacity=\"1\" /><path clip-path=\"url(#clip370)\" d=\"M 0 0 M75.4226 1031.07 Q71.8115 1031.07 69.9828 1034.64 Q68.1773 1038.18 68.1773 1045.31 Q68.1773 1052.41 69.9828 1055.98 Q71.8115 1059.52 75.4226 1059.52 Q79.0569 1059.52 80.8624 1055.98 Q82.6911 1052.41 82.6911 1045.31 Q82.6911 1038.18 80.8624 1034.64 Q79.0569 1031.07 75.4226 1031.07 M75.4226 1027.37 Q81.2328 1027.37 84.2883 1031.97 Q87.367 1036.56 87.367 1045.31 Q87.367 1054.03 84.2883 1058.64 Q81.2328 1063.22 75.4226 1063.22 Q69.6125 1063.22 66.5338 1058.64 Q63.4782 1054.03 63.4782 1045.31 Q63.4782 1036.56 66.5338 1031.97 Q69.6125 1027.37 75.4226 1027.37 Z\" fill=\"#000000\" fill-rule=\"evenodd\" fill-opacity=\"1\" /><path clip-path=\"url(#clip370)\" d=\"M 0 0 M92.4364 1056.67 L97.3206 1056.67 L97.3206 1062.55 L92.4364 1062.55 L92.4364 1056.67 Z\" fill=\"#000000\" fill-rule=\"evenodd\" fill-opacity=\"1\" /><path clip-path=\"url(#clip370)\" d=\"M 0 0 M112.39 1031.07 Q108.779 1031.07 106.95 1034.64 Q105.145 1038.18 105.145 1045.31 Q105.145 1052.41 106.95 1055.98 Q108.779 1059.52 112.39 1059.52 Q116.024 1059.52 117.83 1055.98 Q119.658 1052.41 119.658 1045.31 Q119.658 1038.18 117.83 1034.64 Q116.024 1031.07 112.39 1031.07 M112.39 1027.37 Q118.2 1027.37 121.256 1031.97 Q124.334 1036.56 124.334 1045.31 Q124.334 1054.03 121.256 1058.64 Q118.2 1063.22 112.39 1063.22 Q106.58 1063.22 103.501 1058.64 Q100.446 1054.03 100.446 1045.31 Q100.446 1036.56 103.501 1031.97 Q106.58 1027.37 112.39 1027.37 Z\" fill=\"#000000\" fill-rule=\"evenodd\" fill-opacity=\"1\" /><path clip-path=\"url(#clip370)\" d=\"M 0 0 M76.6495 809.755 Q73.0384 809.755 71.2097 813.32 Q69.4041 816.862 69.4041 823.991 Q69.4041 831.098 71.2097 834.663 Q73.0384 838.204 76.6495 838.204 Q80.2837 838.204 82.0892 834.663 Q83.9179 831.098 83.9179 823.991 Q83.9179 816.862 82.0892 813.32 Q80.2837 809.755 76.6495 809.755 M76.6495 806.052 Q82.4596 806.052 85.5152 810.658 Q88.5938 815.241 88.5938 823.991 Q88.5938 832.718 85.5152 837.325 Q82.4596 841.908 76.6495 841.908 Q70.8393 841.908 67.7606 837.325 Q64.7051 832.718 64.7051 823.991 Q64.7051 815.241 67.7606 810.658 Q70.8393 806.052 76.6495 806.052 Z\" fill=\"#000000\" fill-rule=\"evenodd\" fill-opacity=\"1\" /><path clip-path=\"url(#clip370)\" d=\"M 0 0 M93.6633 835.357 L98.5475 835.357 L98.5475 841.237 L93.6633 841.237 L93.6633 835.357 Z\" fill=\"#000000\" fill-rule=\"evenodd\" fill-opacity=\"1\" /><path clip-path=\"url(#clip370)\" d=\"M 0 0 M104.427 837.301 L112.066 837.301 L112.066 810.936 L103.756 812.602 L103.756 808.343 L112.02 806.677 L116.696 806.677 L116.696 837.301 L124.334 837.301 L124.334 841.237 L104.427 841.237 L104.427 837.301 Z\" fill=\"#000000\" fill-rule=\"evenodd\" fill-opacity=\"1\" /><path clip-path=\"url(#clip370)\" d=\"M 0 0 M77.0198 588.44 Q73.4087 588.44 71.58 592.005 Q69.7745 595.546 69.7745 602.676 Q69.7745 609.782 71.58 613.347 Q73.4087 616.889 77.0198 616.889 Q80.6541 616.889 82.4596 613.347 Q84.2883 609.782 84.2883 602.676 Q84.2883 595.546 82.4596 592.005 Q80.6541 588.44 77.0198 588.44 M77.0198 584.736 Q82.83 584.736 85.8855 589.343 Q88.9642 593.926 88.9642 602.676 Q88.9642 611.403 85.8855 616.009 Q82.83 620.592 77.0198 620.592 Q71.2097 620.592 68.131 616.009 Q65.0754 611.403 65.0754 602.676 Q65.0754 593.926 68.131 589.343 Q71.2097 584.736 77.0198 584.736 Z\" fill=\"#000000\" fill-rule=\"evenodd\" fill-opacity=\"1\" /><path clip-path=\"url(#clip370)\" d=\"M 0 0 M94.0336 614.041 L98.9179 614.041 L98.9179 619.921 L94.0336 619.921 L94.0336 614.041 Z\" fill=\"#000000\" fill-rule=\"evenodd\" fill-opacity=\"1\" /><path clip-path=\"url(#clip370)\" d=\"M 0 0 M108.015 615.986 L124.334 615.986 L124.334 619.921 L102.39 619.921 L102.39 615.986 Q105.052 613.231 109.635 608.602 Q114.242 603.949 115.422 602.606 Q117.668 600.083 118.547 598.347 Q119.45 596.588 119.45 594.898 Q119.45 592.143 117.506 590.407 Q115.584 588.671 112.483 588.671 Q110.284 588.671 107.83 589.435 Q105.399 590.199 102.622 591.75 L102.622 587.028 Q105.446 585.893 107.899 585.315 Q110.353 584.736 112.39 584.736 Q117.76 584.736 120.955 587.421 Q124.149 590.106 124.149 594.597 Q124.149 596.727 123.339 598.648 Q122.552 600.546 120.446 603.139 Q119.867 603.81 116.765 607.028 Q113.663 610.222 108.015 615.986 Z\" fill=\"#000000\" fill-rule=\"evenodd\" fill-opacity=\"1\" /><path clip-path=\"url(#clip370)\" d=\"M 0 0 M76.0708 367.124 Q72.4597 367.124 70.631 370.689 Q68.8254 374.231 68.8254 381.36 Q68.8254 388.467 70.631 392.032 Q72.4597 395.573 76.0708 395.573 Q79.705 395.573 81.5105 392.032 Q83.3392 388.467 83.3392 381.36 Q83.3392 374.231 81.5105 370.689 Q79.705 367.124 76.0708 367.124 M76.0708 363.421 Q81.8809 363.421 84.9365 368.027 Q88.0151 372.61 88.0151 381.36 Q88.0151 390.087 84.9365 394.694 Q81.8809 399.277 76.0708 399.277 Q70.2606 399.277 67.1819 394.694 Q64.1264 390.087 64.1264 381.36 Q64.1264 372.61 67.1819 368.027 Q70.2606 363.421 76.0708 363.421 Z\" fill=\"#000000\" fill-rule=\"evenodd\" fill-opacity=\"1\" /><path clip-path=\"url(#clip370)\" d=\"M 0 0 M93.0846 392.726 L97.9688 392.726 L97.9688 398.606 L93.0846 398.606 L93.0846 392.726 Z\" fill=\"#000000\" fill-rule=\"evenodd\" fill-opacity=\"1\" /><path clip-path=\"url(#clip370)\" d=\"M 0 0 M117.205 379.971 Q120.561 380.689 122.436 382.958 Q124.334 385.226 124.334 388.559 Q124.334 393.675 120.816 396.476 Q117.297 399.277 110.816 399.277 Q108.64 399.277 106.325 398.837 Q104.034 398.42 101.58 397.564 L101.58 393.05 Q103.524 394.184 105.839 394.763 Q108.154 395.342 110.677 395.342 Q115.075 395.342 117.367 393.606 Q119.682 391.87 119.682 388.559 Q119.682 385.504 117.529 383.791 Q115.399 382.055 111.58 382.055 L107.552 382.055 L107.552 378.212 L111.765 378.212 Q115.214 378.212 117.043 376.846 Q118.871 375.458 118.871 372.865 Q118.871 370.203 116.973 368.791 Q115.098 367.356 111.58 367.356 Q109.659 367.356 107.459 367.772 Q105.26 368.189 102.622 369.069 L102.622 364.902 Q105.284 364.161 107.598 363.791 Q109.936 363.421 111.996 363.421 Q117.321 363.421 120.422 365.851 Q123.524 368.259 123.524 372.379 Q123.524 375.249 121.881 377.24 Q120.237 379.208 117.205 379.971 Z\" fill=\"#000000\" fill-rule=\"evenodd\" fill-opacity=\"1\" /><path clip-path=\"url(#clip370)\" d=\"M 0 0 M74.9365 145.809 Q71.3254 145.809 69.4967 149.374 Q67.6912 152.915 67.6912 160.045 Q67.6912 167.151 69.4967 170.716 Q71.3254 174.258 74.9365 174.258 Q78.5707 174.258 80.3763 170.716 Q82.205 167.151 82.205 160.045 Q82.205 152.915 80.3763 149.374 Q78.5707 145.809 74.9365 145.809 M74.9365 142.105 Q80.7467 142.105 83.8022 146.712 Q86.8809 151.295 86.8809 160.045 Q86.8809 168.772 83.8022 173.378 Q80.7467 177.961 74.9365 177.961 Q69.1264 177.961 66.0477 173.378 Q62.9921 168.772 62.9921 160.045 Q62.9921 151.295 66.0477 146.712 Q69.1264 142.105 74.9365 142.105 Z\" fill=\"#000000\" fill-rule=\"evenodd\" fill-opacity=\"1\" /><path clip-path=\"url(#clip370)\" d=\"M 0 0 M91.9503 171.411 L96.8345 171.411 L96.8345 177.29 L91.9503 177.29 L91.9503 171.411 Z\" fill=\"#000000\" fill-rule=\"evenodd\" fill-opacity=\"1\" /><path clip-path=\"url(#clip370)\" d=\"M 0 0 M114.751 146.804 L102.946 165.253 L114.751 165.253 L114.751 146.804 M113.524 142.73 L119.404 142.73 L119.404 165.253 L124.334 165.253 L124.334 169.142 L119.404 169.142 L119.404 177.29 L114.751 177.29 L114.751 169.142 L99.1493 169.142 L99.1493 164.628 L113.524 142.73 Z\" fill=\"#000000\" fill-rule=\"evenodd\" fill-opacity=\"1\" /><polyline clip-path=\"url(#clip372)\" style=\"stroke:#009af9; stroke-width:4; stroke-opacity:1; fill:none\" points=\"\n",
       "  165.101,1044.13 167.023,1041.24 167.983,1040.83 170.866,1039.39 172.788,1038.52 182.396,1035.21 187.2,1033.45 201.612,1027.69 211.22,1024.11 259.26,1005.36 \n",
       "  283.281,990.059 355.341,967.971 403.382,934.948 643.584,830.671 1123.99,76.2797 \n",
       "  \"/>\n",
       "<polyline clip-path=\"url(#clip372)\" style=\"stroke:#e26f46; stroke-width:4; stroke-opacity:1; fill:none\" points=\"\n",
       "  165.101,810.66 167.023,981.316 167.983,985.701 170.866,984.045 172.788,1021.53 182.396,1013.78 187.2,1006.46 201.612,1029.65 211.22,1018.13 259.26,1031.83 \n",
       "  283.281,1016.57 355.341,1031.89 403.382,1031.58 643.584,1030.77 1123.99,1010.88 \n",
       "  \"/>\n",
       "<path clip-path=\"url(#clip370)\" d=\"\n",
       "M811.086 240.204 L1116.76 240.204 L1116.76 58.7641 L811.086 58.7641  Z\n",
       "  \" fill=\"#ffffff\" fill-rule=\"evenodd\" fill-opacity=\"1\"/>\n",
       "<polyline clip-path=\"url(#clip370)\" style=\"stroke:#000000; stroke-width:4; stroke-opacity:1; fill:none\" points=\"\n",
       "  811.086,240.204 1116.76,240.204 1116.76,58.7641 811.086,58.7641 811.086,240.204 \n",
       "  \"/>\n",
       "<polyline clip-path=\"url(#clip370)\" style=\"stroke:#009af9; stroke-width:4; stroke-opacity:1; fill:none\" points=\"\n",
       "  823.086,119.244 895.086,119.244 \n",
       "  \"/>\n",
       "<path clip-path=\"url(#clip370)\" d=\"M 0 0 M927.595 111.594 L927.595 115.575 Q925.789 114.58 923.961 114.094 Q922.155 113.584 920.303 113.584 Q916.16 113.584 913.868 116.223 Q911.576 118.839 911.576 123.584 Q911.576 128.33 913.868 130.969 Q916.16 133.584 920.303 133.584 Q922.155 133.584 923.961 133.098 Q925.789 132.589 927.595 131.594 L927.595 135.529 Q925.812 136.362 923.891 136.779 Q921.993 137.195 919.84 137.195 Q913.984 137.195 910.535 133.515 Q907.086 129.834 907.086 123.584 Q907.086 117.242 910.558 113.608 Q914.053 109.973 920.118 109.973 Q922.086 109.973 923.961 110.39 Q925.836 110.783 927.595 111.594 Z\" fill=\"#000000\" fill-rule=\"evenodd\" fill-opacity=\"1\" /><path clip-path=\"url(#clip370)\" d=\"M 0 0 M929.007 110.598 L933.521 110.598 L941.622 132.357 L949.724 110.598 L954.238 110.598 L944.516 136.524 L938.729 136.524 L929.007 110.598 Z\" fill=\"#000000\" fill-rule=\"evenodd\" fill-opacity=\"1\" /><path clip-path=\"url(#clip370)\" d=\"M 0 0 M978.405 144.394 L978.405 147.705 L953.775 147.705 L953.775 144.394 L978.405 144.394 Z\" fill=\"#000000\" fill-rule=\"evenodd\" fill-opacity=\"1\" /><path clip-path=\"url(#clip370)\" d=\"M 0 0 M982.872 100.506 L987.131 100.506 L987.131 136.524 L982.872 136.524 L982.872 100.506 Z\" fill=\"#000000\" fill-rule=\"evenodd\" fill-opacity=\"1\" /><path clip-path=\"url(#clip370)\" d=\"M 0 0 M991.599 110.598 L995.858 110.598 L995.858 136.524 L991.599 136.524 L991.599 110.598 M991.599 100.506 L995.858 100.506 L995.858 105.899 L991.599 105.899 L991.599 100.506 Z\" fill=\"#000000\" fill-rule=\"evenodd\" fill-opacity=\"1\" /><path clip-path=\"url(#clip370)\" d=\"M 0 0 M1021.88 120.876 L1021.88 136.524 L1017.62 136.524 L1017.62 121.015 Q1017.62 117.334 1016.18 115.506 Q1014.75 113.677 1011.88 113.677 Q1008.43 113.677 1006.44 115.876 Q1004.45 118.075 1004.45 121.871 L1004.45 136.524 L1000.16 136.524 L1000.16 110.598 L1004.45 110.598 L1004.45 114.626 Q1005.97 112.288 1008.03 111.131 Q1010.12 109.973 1012.83 109.973 Q1017.29 109.973 1019.59 112.751 Q1021.88 115.506 1021.88 120.876 Z\" fill=\"#000000\" fill-rule=\"evenodd\" fill-opacity=\"1\" /><path clip-path=\"url(#clip370)\" d=\"M 0 0 M1048.52 122.496 L1048.52 124.58 L1028.94 124.58 Q1029.21 128.978 1031.58 131.293 Q1033.96 133.584 1038.2 133.584 Q1040.65 133.584 1042.94 132.982 Q1045.26 132.381 1047.52 131.177 L1047.52 135.205 Q1045.23 136.177 1042.83 136.686 Q1040.42 137.195 1037.94 137.195 Q1031.74 137.195 1028.1 133.584 Q1024.49 129.973 1024.49 123.816 Q1024.49 117.45 1027.92 113.723 Q1031.37 109.973 1037.2 109.973 Q1042.43 109.973 1045.46 113.353 Q1048.52 116.709 1048.52 122.496 M1044.26 121.246 Q1044.21 117.751 1042.29 115.668 Q1040.4 113.584 1037.25 113.584 Q1033.68 113.584 1031.53 115.598 Q1029.4 117.612 1029.08 121.27 L1044.26 121.246 Z\" fill=\"#000000\" fill-rule=\"evenodd\" fill-opacity=\"1\" /><path clip-path=\"url(#clip370)\" d=\"M 0 0 M1064.77 123.492 Q1059.61 123.492 1057.62 124.672 Q1055.63 125.853 1055.63 128.7 Q1055.63 130.969 1057.11 132.311 Q1058.61 133.631 1061.18 133.631 Q1064.72 133.631 1066.85 131.131 Q1069.01 128.607 1069.01 124.441 L1069.01 123.492 L1064.77 123.492 M1073.27 121.733 L1073.27 136.524 L1069.01 136.524 L1069.01 132.589 Q1067.55 134.95 1065.37 136.084 Q1063.2 137.195 1060.05 137.195 Q1056.07 137.195 1053.71 134.973 Q1051.37 132.728 1051.37 128.978 Q1051.37 124.603 1054.28 122.381 Q1057.22 120.158 1063.03 120.158 L1069.01 120.158 L1069.01 119.742 Q1069.01 116.802 1067.06 115.205 Q1065.14 113.584 1061.64 113.584 Q1059.42 113.584 1057.32 114.117 Q1055.21 114.649 1053.27 115.714 L1053.27 111.779 Q1055.6 110.876 1057.8 110.436 Q1060 109.973 1062.08 109.973 Q1067.71 109.973 1070.49 112.89 Q1073.27 115.807 1073.27 121.733 Z\" fill=\"#000000\" fill-rule=\"evenodd\" fill-opacity=\"1\" /><path clip-path=\"url(#clip370)\" d=\"M 0 0 M1092.76 114.58 Q1092.04 114.163 1091.18 113.978 Q1090.35 113.77 1089.33 113.77 Q1085.72 113.77 1083.77 116.131 Q1081.85 118.469 1081.85 122.867 L1081.85 136.524 L1077.57 136.524 L1077.57 110.598 L1081.85 110.598 L1081.85 114.626 Q1083.2 112.265 1085.35 111.131 Q1087.5 109.973 1090.58 109.973 Q1091.02 109.973 1091.55 110.043 Q1092.08 110.089 1092.73 110.205 L1092.76 114.58 Z\" fill=\"#000000\" fill-rule=\"evenodd\" fill-opacity=\"1\" /><polyline clip-path=\"url(#clip370)\" style=\"stroke:#e26f46; stroke-width:4; stroke-opacity:1; fill:none\" points=\"\n",
       "  823.086,179.724 895.086,179.724 \n",
       "  \"/>\n",
       "<path clip-path=\"url(#clip370)\" d=\"M 0 0 M927.595 172.074 L927.595 176.055 Q925.789 175.06 923.961 174.574 Q922.155 174.064 920.303 174.064 Q916.16 174.064 913.868 176.703 Q911.576 179.319 911.576 184.064 Q911.576 188.81 913.868 191.449 Q916.16 194.064 920.303 194.064 Q922.155 194.064 923.961 193.578 Q925.789 193.069 927.595 192.074 L927.595 196.009 Q925.812 196.842 923.891 197.259 Q921.993 197.675 919.84 197.675 Q913.984 197.675 910.535 193.995 Q907.086 190.314 907.086 184.064 Q907.086 177.722 910.558 174.088 Q914.053 170.453 920.118 170.453 Q922.086 170.453 923.961 170.87 Q925.836 171.263 927.595 172.074 Z\" fill=\"#000000\" fill-rule=\"evenodd\" fill-opacity=\"1\" /><path clip-path=\"url(#clip370)\" d=\"M 0 0 M929.007 171.078 L933.521 171.078 L941.622 192.837 L949.724 171.078 L954.238 171.078 L944.516 197.004 L938.729 197.004 L929.007 171.078 Z\" fill=\"#000000\" fill-rule=\"evenodd\" fill-opacity=\"1\" /><path clip-path=\"url(#clip370)\" d=\"M 0 0 M978.405 204.874 L978.405 208.185 L953.775 208.185 L953.775 204.874 L978.405 204.874 Z\" fill=\"#000000\" fill-rule=\"evenodd\" fill-opacity=\"1\" /><path clip-path=\"url(#clip370)\" d=\"M 0 0 M995.997 160.986 L995.997 164.527 L991.923 164.527 Q989.631 164.527 988.729 165.453 Q987.849 166.379 987.849 168.787 L987.849 171.078 L994.863 171.078 L994.863 174.388 L987.849 174.388 L987.849 197.004 L983.567 197.004 L983.567 174.388 L979.493 174.388 L979.493 171.078 L983.567 171.078 L983.567 169.273 Q983.567 164.944 985.581 162.976 Q987.594 160.986 991.969 160.986 L995.997 160.986 Z\" fill=\"#000000\" fill-rule=\"evenodd\" fill-opacity=\"1\" /><path clip-path=\"url(#clip370)\" d=\"M 0 0 M1012.25 183.972 Q1007.09 183.972 1005.09 185.152 Q1003.1 186.333 1003.1 189.18 Q1003.1 191.449 1004.59 192.791 Q1006.09 194.111 1008.66 194.111 Q1012.2 194.111 1014.33 191.611 Q1016.48 189.087 1016.48 184.921 L1016.48 183.972 L1012.25 183.972 M1020.74 182.213 L1020.74 197.004 L1016.48 197.004 L1016.48 193.069 Q1015.02 195.43 1012.85 196.564 Q1010.67 197.675 1007.52 197.675 Q1003.54 197.675 1001.18 195.453 Q998.844 193.208 998.844 189.458 Q998.844 185.083 1001.76 182.861 Q1004.7 180.638 1010.51 180.638 L1016.48 180.638 L1016.48 180.222 Q1016.48 177.282 1014.54 175.685 Q1012.62 174.064 1009.12 174.064 Q1006.9 174.064 1004.79 174.597 Q1002.69 175.129 1000.74 176.194 L1000.74 172.259 Q1003.08 171.356 1005.28 170.916 Q1007.48 170.453 1009.56 170.453 Q1015.19 170.453 1017.96 173.37 Q1020.74 176.287 1020.74 182.213 Z\" fill=\"#000000\" fill-rule=\"evenodd\" fill-opacity=\"1\" /><path clip-path=\"url(#clip370)\" d=\"M 0 0 M1041.74 171.842 L1041.74 175.87 Q1039.93 174.944 1037.99 174.481 Q1036.04 174.018 1033.96 174.018 Q1030.79 174.018 1029.19 174.99 Q1027.62 175.963 1027.62 177.907 Q1027.62 179.388 1028.75 180.245 Q1029.89 181.078 1033.31 181.842 L1034.77 182.166 Q1039.31 183.138 1041.21 184.921 Q1043.13 186.68 1043.13 189.851 Q1043.13 193.462 1040.26 195.569 Q1037.41 197.675 1032.41 197.675 Q1030.33 197.675 1028.06 197.259 Q1025.81 196.865 1023.31 196.055 L1023.31 191.657 Q1025.67 192.884 1027.96 193.509 Q1030.26 194.111 1032.5 194.111 Q1035.51 194.111 1037.13 193.092 Q1038.75 192.05 1038.75 190.175 Q1038.75 188.439 1037.57 187.513 Q1036.41 186.587 1032.46 185.731 L1030.97 185.384 Q1027.02 184.55 1025.26 182.838 Q1023.5 181.101 1023.5 178.092 Q1023.5 174.435 1026.09 172.444 Q1028.68 170.453 1033.45 170.453 Q1035.81 170.453 1037.9 170.801 Q1039.98 171.148 1041.74 171.842 Z\" fill=\"#000000\" fill-rule=\"evenodd\" fill-opacity=\"1\" /><path clip-path=\"url(#clip370)\" d=\"M 0 0 M1051.81 163.717 L1051.81 171.078 L1060.58 171.078 L1060.58 174.388 L1051.81 174.388 L1051.81 188.462 Q1051.81 191.634 1052.66 192.537 Q1053.54 193.439 1056.21 193.439 L1060.58 193.439 L1060.58 197.004 L1056.21 197.004 Q1051.27 197.004 1049.4 195.175 Q1047.52 193.324 1047.52 188.462 L1047.52 174.388 L1044.4 174.388 L1044.4 171.078 L1047.52 171.078 L1047.52 163.717 L1051.81 163.717 Z\" fill=\"#000000\" fill-rule=\"evenodd\" fill-opacity=\"1\" /></svg>\n"
      ]
     },
     "execution_count": 12,
     "metadata": {},
     "output_type": "execute_result"
    }
   ],
   "source": [
    "pp = plot(size=(300, 300))\n",
    "plot!(pp, Ul, Vl, label=\"cv_linear\")\n",
    "plot!(pp, Uf, Vf, label=\"cv_fast\")\n",
    "pp"
   ]
  },
  {
   "cell_type": "markdown",
   "metadata": {},
   "source": [
    "# 例43 ブートストラップ"
   ]
  },
  {
   "cell_type": "code",
   "execution_count": 19,
   "metadata": {},
   "outputs": [
    {
     "data": {
      "text/plain": [
       "bt (generic function with 1 method)"
      ]
     },
     "execution_count": 19,
     "metadata": {},
     "output_type": "execute_result"
    }
   ],
   "source": [
    "function bt(df, f, r)\n",
    "    m = size(df)[1]\n",
    "    org = f(df, collect(1:m))\n",
    "    u = Float64[]\n",
    "    for j in 1:r\n",
    "        index = StatsBase.sample(1:m, m, replace=true)\n",
    "        push!(u, f(df, index))\n",
    "    end\n",
    "    Dict(\"original\" => org, \"bias\" => mean(u) - org, \"stderr\" => std(u))\n",
    "end"
   ]
  },
  {
   "cell_type": "code",
   "execution_count": 20,
   "metadata": {},
   "outputs": [
    {
     "data": {
      "text/plain": [
       "func_1 (generic function with 1 method)"
      ]
     },
     "execution_count": 20,
     "metadata": {},
     "output_type": "execute_result"
    }
   ],
   "source": [
    "function func_1(data, index)\n",
    "    X = data[index, 1]\n",
    "    Y = data[index, 2]\n",
    "    (var(Y) - var(X)) / (var(X) + var(Y) - 2 * cov(X, Y))\n",
    "end"
   ]
  },
  {
   "cell_type": "code",
   "execution_count": 21,
   "metadata": {},
   "outputs": [
    {
     "data": {
      "text/plain": [
       "Dict{String,Float64} with 3 entries:\n",
       "  \"original\" => 0.151664\n",
       "  \"bias\"     => 0.00477728\n",
       "  \"stderr\"   => 0.174967"
      ]
     },
     "execution_count": 21,
     "metadata": {},
     "output_type": "execute_result"
    }
   ],
   "source": [
    "# Portfolio\n",
    "Portfolio = readdlm(\"portfolio.csv\", ',', skipstart=1);\n",
    "bt(Portfolio, func_1, 1000)"
   ]
  },
  {
   "cell_type": "markdown",
   "metadata": {},
   "source": [
    "# 例44 ブートストラップの確認"
   ]
  },
  {
   "cell_type": "code",
   "execution_count": 22,
   "metadata": {},
   "outputs": [
    {
     "data": {
      "text/plain": [
       "50×7 Array{Float64,2}:\n",
       "  478.0   184.0  40.0  74.0  11.0  31.0  20.0\n",
       "  494.0   213.0  32.0  72.0  11.0  43.0  18.0\n",
       "  643.0   347.0  57.0  70.0  18.0  16.0  16.0\n",
       "  341.0   565.0  31.0  71.0  11.0  25.0  19.0\n",
       "  773.0   327.0  67.0  72.0   9.0  29.0  24.0\n",
       "  603.0   260.0  25.0  68.0   8.0  32.0  15.0\n",
       "  484.0   325.0  34.0  68.0  12.0  24.0  14.0\n",
       "  546.0   102.0  33.0  62.0  13.0  28.0  11.0\n",
       "  424.0    38.0  36.0  69.0   7.0  25.0  12.0\n",
       "  548.0   226.0  31.0  66.0   9.0  58.0  15.0\n",
       "  506.0   137.0  35.0  60.0  13.0  21.0   9.0\n",
       "  819.0   369.0  30.0  81.0   4.0  77.0  36.0\n",
       "  541.0   109.0  44.0  66.0   9.0  37.0  12.0\n",
       "    ⋮                               ⋮        \n",
       "  989.0  1375.0  22.0  49.0   9.0  46.0  13.0\n",
       "  821.0  1139.0  30.0  54.0  13.0  27.0  12.0\n",
       " 1740.0  3545.0  86.0  62.0  22.0  18.0  15.0\n",
       "  815.0   706.0  30.0  47.0  17.0  39.0  11.0\n",
       "  760.0   451.0  32.0  45.0  34.0  15.0  10.0\n",
       "  936.0   433.0  43.0  48.0  26.0  23.0  12.0\n",
       "  863.0   601.0  20.0  69.0  23.0   7.0  12.0\n",
       "  783.0  1024.0  55.0  42.0  23.0  23.0  11.0\n",
       "  715.0   457.0  44.0  49.0  18.0  30.0  12.0\n",
       " 1504.0  1441.0  37.0  57.0  15.0  35.0  13.0\n",
       " 1324.0  1022.0  82.0  72.0  22.0  15.0  16.0\n",
       "  940.0  1244.0  66.0  67.0  26.0  18.0  16.0"
      ]
     },
     "execution_count": 22,
     "metadata": {},
     "output_type": "execute_result"
    }
   ],
   "source": [
    "df = readdlm(\"crime.txt\", '\\t')"
   ]
  },
  {
   "cell_type": "code",
   "execution_count": 23,
   "metadata": {},
   "outputs": [
    {
     "name": "stderr",
     "output_type": "stream",
     "text": [
      "WARNING: redefining constant LinearRegression\n"
     ]
    },
    {
     "data": {
      "text/plain": [
       "2-element Array{Float64,1}:\n",
       " 11.858330796711094\n",
       " -5.973411688164963"
      ]
     },
     "execution_count": 23,
     "metadata": {},
     "output_type": "execute_result"
    }
   ],
   "source": [
    "@sk_import linear_model: LinearRegression\n",
    "reg = LinearRegression()\n",
    "X = df[:, [3, 4]]\n",
    "y = df[:, 1]\n",
    "ScikitLearn.fit!(reg, X, y)\n",
    "reg.coef_"
   ]
  },
  {
   "cell_type": "code",
   "execution_count": 24,
   "metadata": {},
   "outputs": [
    {
     "name": "stdout",
     "output_type": "stream",
     "text": [
      "Dict(\"original\" => 621.4260363802889,\"bias\" => 41.0723956734123,\"stderr\" => 216.72469148934323)\n",
      "Dict(\"original\" => 11.858330796711094,\"bias\" => -0.32861348070689544,\"stderr\" => 3.2340313546370116)\n",
      "Dict(\"original\" => -5.973411688164963,\"bias\" => -0.2489704889066333,\"stderr\" => 3.2633156993186265)\n"
     ]
    }
   ],
   "source": [
    "for j in [0, 1, 2]\n",
    "    function func2(data, index)\n",
    "        X = data[index, [3, 4]]\n",
    "        y = data[index, 1]\n",
    "        reg = LinearRegression()\n",
    "        ScikitLearn.fit!(reg, X, y)\n",
    "        if j == 0\n",
    "            return reg.intercept_\n",
    "        else\n",
    "            return reg.coef_[j]\n",
    "        end\n",
    "    end\n",
    "    println(bt(df, func2, 1000))\n",
    "end"
   ]
  },
  {
   "cell_type": "code",
   "execution_count": null,
   "metadata": {},
   "outputs": [],
   "source": []
  }
 ],
 "metadata": {
  "jupytext": {
   "encoding": "# -*- coding: utf-8 -*-",
   "text_representation": {
    "extension": ".py",
    "format_name": "light",
    "format_version": "1.5",
    "jupytext_version": "1.3.3"
   }
  },
  "kernelspec": {
   "display_name": "Julia 1.3.0 1.3.0",
   "language": "julia",
   "name": "julia-1.3.0-1.3"
  },
  "language_info": {
   "file_extension": ".jl",
   "mimetype": "application/julia",
   "name": "julia",
   "version": "1.3.0"
  }
 },
 "nbformat": 4,
 "nbformat_minor": 4
}
